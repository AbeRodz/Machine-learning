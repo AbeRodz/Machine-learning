{
 "cells": [
  {
   "cell_type": "code",
   "execution_count": 1,
   "metadata": {},
   "outputs": [],
   "source": [
    "import pandas as pd\n",
    "import matplotlib.pyplot as plt\n",
    "import seaborn as sns\n",
    "import numpy as np"
   ]
  },
  {
   "attachments": {},
   "cell_type": "markdown",
   "metadata": {},
   "source": [
    "# Dataset\n",
    "\n",
    "Data can be found on https://www.nyc.gov/site/tlc/about/tlc-trip-record-data.page"
   ]
  },
  {
   "cell_type": "code",
   "execution_count": 2,
   "metadata": {},
   "outputs": [],
   "source": [
    "path = './data'"
   ]
  },
  {
   "attachments": {},
   "cell_type": "markdown",
   "metadata": {},
   "source": [
    "## Data Exploration"
   ]
  },
  {
   "cell_type": "code",
   "execution_count": 3,
   "metadata": {},
   "outputs": [],
   "source": [
    "df = pd.read_parquet(path + \"/yellow_tripdata_2022-01.parquet\", engine= \"auto\")\n",
    "df = df.sample(frac=0.05)"
   ]
  },
  {
   "cell_type": "code",
   "execution_count": null,
   "metadata": {},
   "outputs": [],
   "source": []
  },
  {
   "cell_type": "code",
   "execution_count": 4,
   "metadata": {},
   "outputs": [
    {
     "data": {
      "text/plain": [
       "Index(['VendorID', 'tpep_pickup_datetime', 'tpep_dropoff_datetime',\n",
       "       'passenger_count', 'trip_distance', 'RatecodeID', 'store_and_fwd_flag',\n",
       "       'PULocationID', 'DOLocationID', 'payment_type', 'fare_amount', 'extra',\n",
       "       'mta_tax', 'tip_amount', 'tolls_amount', 'improvement_surcharge',\n",
       "       'total_amount', 'congestion_surcharge', 'airport_fee'],\n",
       "      dtype='object')"
      ]
     },
     "execution_count": 4,
     "metadata": {},
     "output_type": "execute_result"
    }
   ],
   "source": [
    "df.columns"
   ]
  },
  {
   "cell_type": "code",
   "execution_count": 5,
   "metadata": {},
   "outputs": [
    {
     "data": {
      "text/plain": [
       "(123197, 19)"
      ]
     },
     "execution_count": 5,
     "metadata": {},
     "output_type": "execute_result"
    }
   ],
   "source": [
    "df.shape"
   ]
  },
  {
   "cell_type": "code",
   "execution_count": 6,
   "metadata": {},
   "outputs": [
    {
     "data": {
      "text/html": [
       "<div>\n",
       "<style scoped>\n",
       "    .dataframe tbody tr th:only-of-type {\n",
       "        vertical-align: middle;\n",
       "    }\n",
       "\n",
       "    .dataframe tbody tr th {\n",
       "        vertical-align: top;\n",
       "    }\n",
       "\n",
       "    .dataframe thead th {\n",
       "        text-align: right;\n",
       "    }\n",
       "</style>\n",
       "<table border=\"1\" class=\"dataframe\">\n",
       "  <thead>\n",
       "    <tr style=\"text-align: right;\">\n",
       "      <th></th>\n",
       "      <th>VendorID</th>\n",
       "      <th>tpep_pickup_datetime</th>\n",
       "      <th>tpep_dropoff_datetime</th>\n",
       "      <th>passenger_count</th>\n",
       "      <th>trip_distance</th>\n",
       "      <th>RatecodeID</th>\n",
       "      <th>store_and_fwd_flag</th>\n",
       "      <th>PULocationID</th>\n",
       "      <th>DOLocationID</th>\n",
       "      <th>payment_type</th>\n",
       "      <th>fare_amount</th>\n",
       "      <th>extra</th>\n",
       "      <th>mta_tax</th>\n",
       "      <th>tip_amount</th>\n",
       "      <th>tolls_amount</th>\n",
       "      <th>improvement_surcharge</th>\n",
       "      <th>total_amount</th>\n",
       "      <th>congestion_surcharge</th>\n",
       "      <th>airport_fee</th>\n",
       "    </tr>\n",
       "  </thead>\n",
       "  <tbody>\n",
       "    <tr>\n",
       "      <th>452136</th>\n",
       "      <td>1</td>\n",
       "      <td>2022-01-07 16:48:52</td>\n",
       "      <td>2022-01-07 17:35:27</td>\n",
       "      <td>1.0</td>\n",
       "      <td>36.40</td>\n",
       "      <td>5.0</td>\n",
       "      <td>N</td>\n",
       "      <td>132</td>\n",
       "      <td>265</td>\n",
       "      <td>2</td>\n",
       "      <td>120.0</td>\n",
       "      <td>1.25</td>\n",
       "      <td>0.0</td>\n",
       "      <td>0.00</td>\n",
       "      <td>6.55</td>\n",
       "      <td>0.3</td>\n",
       "      <td>128.10</td>\n",
       "      <td>0.0</td>\n",
       "      <td>1.25</td>\n",
       "    </tr>\n",
       "    <tr>\n",
       "      <th>722332</th>\n",
       "      <td>1</td>\n",
       "      <td>2022-01-11 11:41:01</td>\n",
       "      <td>2022-01-11 11:56:29</td>\n",
       "      <td>2.0</td>\n",
       "      <td>2.60</td>\n",
       "      <td>1.0</td>\n",
       "      <td>N</td>\n",
       "      <td>113</td>\n",
       "      <td>161</td>\n",
       "      <td>1</td>\n",
       "      <td>12.0</td>\n",
       "      <td>2.50</td>\n",
       "      <td>0.5</td>\n",
       "      <td>3.80</td>\n",
       "      <td>0.00</td>\n",
       "      <td>0.3</td>\n",
       "      <td>19.10</td>\n",
       "      <td>2.5</td>\n",
       "      <td>0.00</td>\n",
       "    </tr>\n",
       "    <tr>\n",
       "      <th>171767</th>\n",
       "      <td>1</td>\n",
       "      <td>2022-01-03 18:30:10</td>\n",
       "      <td>2022-01-03 19:03:48</td>\n",
       "      <td>1.0</td>\n",
       "      <td>18.40</td>\n",
       "      <td>2.0</td>\n",
       "      <td>N</td>\n",
       "      <td>132</td>\n",
       "      <td>90</td>\n",
       "      <td>1</td>\n",
       "      <td>52.0</td>\n",
       "      <td>8.25</td>\n",
       "      <td>0.5</td>\n",
       "      <td>5.00</td>\n",
       "      <td>6.55</td>\n",
       "      <td>0.3</td>\n",
       "      <td>72.60</td>\n",
       "      <td>2.5</td>\n",
       "      <td>1.25</td>\n",
       "    </tr>\n",
       "    <tr>\n",
       "      <th>663591</th>\n",
       "      <td>2</td>\n",
       "      <td>2022-01-10 14:35:14</td>\n",
       "      <td>2022-01-10 14:49:27</td>\n",
       "      <td>1.0</td>\n",
       "      <td>1.61</td>\n",
       "      <td>1.0</td>\n",
       "      <td>N</td>\n",
       "      <td>236</td>\n",
       "      <td>162</td>\n",
       "      <td>1</td>\n",
       "      <td>10.5</td>\n",
       "      <td>0.00</td>\n",
       "      <td>0.5</td>\n",
       "      <td>3.45</td>\n",
       "      <td>0.00</td>\n",
       "      <td>0.3</td>\n",
       "      <td>17.25</td>\n",
       "      <td>2.5</td>\n",
       "      <td>0.00</td>\n",
       "    </tr>\n",
       "    <tr>\n",
       "      <th>2127350</th>\n",
       "      <td>1</td>\n",
       "      <td>2022-01-28 06:01:22</td>\n",
       "      <td>2022-01-28 06:13:03</td>\n",
       "      <td>1.0</td>\n",
       "      <td>2.60</td>\n",
       "      <td>1.0</td>\n",
       "      <td>N</td>\n",
       "      <td>186</td>\n",
       "      <td>229</td>\n",
       "      <td>2</td>\n",
       "      <td>10.5</td>\n",
       "      <td>2.50</td>\n",
       "      <td>0.5</td>\n",
       "      <td>0.00</td>\n",
       "      <td>0.00</td>\n",
       "      <td>0.3</td>\n",
       "      <td>13.80</td>\n",
       "      <td>2.5</td>\n",
       "      <td>0.00</td>\n",
       "    </tr>\n",
       "  </tbody>\n",
       "</table>\n",
       "</div>"
      ],
      "text/plain": [
       "         VendorID tpep_pickup_datetime tpep_dropoff_datetime  passenger_count  \\\n",
       "452136          1  2022-01-07 16:48:52   2022-01-07 17:35:27              1.0   \n",
       "722332          1  2022-01-11 11:41:01   2022-01-11 11:56:29              2.0   \n",
       "171767          1  2022-01-03 18:30:10   2022-01-03 19:03:48              1.0   \n",
       "663591          2  2022-01-10 14:35:14   2022-01-10 14:49:27              1.0   \n",
       "2127350         1  2022-01-28 06:01:22   2022-01-28 06:13:03              1.0   \n",
       "\n",
       "         trip_distance  RatecodeID store_and_fwd_flag  PULocationID  \\\n",
       "452136           36.40         5.0                  N           132   \n",
       "722332            2.60         1.0                  N           113   \n",
       "171767           18.40         2.0                  N           132   \n",
       "663591            1.61         1.0                  N           236   \n",
       "2127350           2.60         1.0                  N           186   \n",
       "\n",
       "         DOLocationID  payment_type  fare_amount  extra  mta_tax  tip_amount  \\\n",
       "452136            265             2        120.0   1.25      0.0        0.00   \n",
       "722332            161             1         12.0   2.50      0.5        3.80   \n",
       "171767             90             1         52.0   8.25      0.5        5.00   \n",
       "663591            162             1         10.5   0.00      0.5        3.45   \n",
       "2127350           229             2         10.5   2.50      0.5        0.00   \n",
       "\n",
       "         tolls_amount  improvement_surcharge  total_amount  \\\n",
       "452136           6.55                    0.3        128.10   \n",
       "722332           0.00                    0.3         19.10   \n",
       "171767           6.55                    0.3         72.60   \n",
       "663591           0.00                    0.3         17.25   \n",
       "2127350          0.00                    0.3         13.80   \n",
       "\n",
       "         congestion_surcharge  airport_fee  \n",
       "452136                    0.0         1.25  \n",
       "722332                    2.5         0.00  \n",
       "171767                    2.5         1.25  \n",
       "663591                    2.5         0.00  \n",
       "2127350                   2.5         0.00  "
      ]
     },
     "execution_count": 6,
     "metadata": {},
     "output_type": "execute_result"
    }
   ],
   "source": [
    "df.head()"
   ]
  },
  {
   "cell_type": "code",
   "execution_count": 7,
   "metadata": {},
   "outputs": [
    {
     "data": {
      "text/plain": [
       "Queens           69\n",
       "Manhattan        69\n",
       "Brooklyn         61\n",
       "Bronx            43\n",
       "Staten Island    20\n",
       "Unknown           2\n",
       "EWR               1\n",
       "Name: Borough, dtype: int64"
      ]
     },
     "execution_count": 7,
     "metadata": {},
     "output_type": "execute_result"
    }
   ],
   "source": [
    "df2 = pd.read_csv(path + \"/taxi+_zone_lookup.csv\")\n",
    "df2['Borough'].value_counts()"
   ]
  },
  {
   "cell_type": "code",
   "execution_count": 8,
   "metadata": {},
   "outputs": [
    {
     "data": {
      "text/html": [
       "<div>\n",
       "<style scoped>\n",
       "    .dataframe tbody tr th:only-of-type {\n",
       "        vertical-align: middle;\n",
       "    }\n",
       "\n",
       "    .dataframe tbody tr th {\n",
       "        vertical-align: top;\n",
       "    }\n",
       "\n",
       "    .dataframe thead th {\n",
       "        text-align: right;\n",
       "    }\n",
       "</style>\n",
       "<table border=\"1\" class=\"dataframe\">\n",
       "  <thead>\n",
       "    <tr style=\"text-align: right;\">\n",
       "      <th></th>\n",
       "      <th>LocationID</th>\n",
       "      <th>Borough</th>\n",
       "      <th>Zone</th>\n",
       "      <th>service_zone</th>\n",
       "    </tr>\n",
       "  </thead>\n",
       "  <tbody>\n",
       "    <tr>\n",
       "      <th>0</th>\n",
       "      <td>1</td>\n",
       "      <td>EWR</td>\n",
       "      <td>Newark Airport</td>\n",
       "      <td>EWR</td>\n",
       "    </tr>\n",
       "    <tr>\n",
       "      <th>1</th>\n",
       "      <td>2</td>\n",
       "      <td>Queens</td>\n",
       "      <td>Jamaica Bay</td>\n",
       "      <td>Boro Zone</td>\n",
       "    </tr>\n",
       "    <tr>\n",
       "      <th>2</th>\n",
       "      <td>3</td>\n",
       "      <td>Bronx</td>\n",
       "      <td>Allerton/Pelham Gardens</td>\n",
       "      <td>Boro Zone</td>\n",
       "    </tr>\n",
       "    <tr>\n",
       "      <th>3</th>\n",
       "      <td>4</td>\n",
       "      <td>Manhattan</td>\n",
       "      <td>Alphabet City</td>\n",
       "      <td>Yellow Zone</td>\n",
       "    </tr>\n",
       "    <tr>\n",
       "      <th>4</th>\n",
       "      <td>5</td>\n",
       "      <td>Staten Island</td>\n",
       "      <td>Arden Heights</td>\n",
       "      <td>Boro Zone</td>\n",
       "    </tr>\n",
       "  </tbody>\n",
       "</table>\n",
       "</div>"
      ],
      "text/plain": [
       "   LocationID        Borough                     Zone service_zone\n",
       "0           1            EWR           Newark Airport          EWR\n",
       "1           2         Queens              Jamaica Bay    Boro Zone\n",
       "2           3          Bronx  Allerton/Pelham Gardens    Boro Zone\n",
       "3           4      Manhattan            Alphabet City  Yellow Zone\n",
       "4           5  Staten Island            Arden Heights    Boro Zone"
      ]
     },
     "execution_count": 8,
     "metadata": {},
     "output_type": "execute_result"
    }
   ],
   "source": [
    "df2.head()"
   ]
  },
  {
   "cell_type": "code",
   "execution_count": 9,
   "metadata": {},
   "outputs": [
    {
     "data": {
      "text/plain": [
       "(265, 4)"
      ]
     },
     "execution_count": 9,
     "metadata": {},
     "output_type": "execute_result"
    }
   ],
   "source": [
    "df2.shape"
   ]
  },
  {
   "cell_type": "code",
   "execution_count": 10,
   "metadata": {},
   "outputs": [],
   "source": [
    "# Inicio Manhattan\n",
    "dfPUManhattan = df[df['PULocationID'].isin(df2.loc[df2['Borough']=='Manhattan', 'LocationID'])]\n",
    "# Fin Manhattan\n",
    "dfDOManhattan = df[df['DOLocationID'].isin(df2.loc[df2['Borough']=='Manhattan', 'LocationID'])]\n",
    "# Solo Manhattan\n",
    "dfManhattan = df.loc[dfPUManhattan.index.intersection(dfDOManhattan.index)]\n"
   ]
  },
  {
   "cell_type": "code",
   "execution_count": 11,
   "metadata": {},
   "outputs": [
    {
     "name": "stdout",
     "output_type": "stream",
     "text": [
      "(123197, 19)\n",
      "(111273, 19)\n",
      "(110493, 19)\n",
      "(104794, 19)\n"
     ]
    }
   ],
   "source": [
    "print (df.shape)\n",
    "print (dfPUManhattan.shape)\n",
    "print (dfDOManhattan.shape)\n",
    "print (dfManhattan.shape)"
   ]
  },
  {
   "cell_type": "code",
   "execution_count": 12,
   "metadata": {},
   "outputs": [
    {
     "data": {
      "text/html": [
       "<div>\n",
       "<style scoped>\n",
       "    .dataframe tbody tr th:only-of-type {\n",
       "        vertical-align: middle;\n",
       "    }\n",
       "\n",
       "    .dataframe tbody tr th {\n",
       "        vertical-align: top;\n",
       "    }\n",
       "\n",
       "    .dataframe thead th {\n",
       "        text-align: right;\n",
       "    }\n",
       "</style>\n",
       "<table border=\"1\" class=\"dataframe\">\n",
       "  <thead>\n",
       "    <tr style=\"text-align: right;\">\n",
       "      <th></th>\n",
       "      <th>VendorID</th>\n",
       "      <th>tpep_pickup_datetime</th>\n",
       "      <th>tpep_dropoff_datetime</th>\n",
       "      <th>passenger_count</th>\n",
       "      <th>trip_distance</th>\n",
       "      <th>RatecodeID</th>\n",
       "      <th>store_and_fwd_flag</th>\n",
       "      <th>PULocationID</th>\n",
       "      <th>DOLocationID</th>\n",
       "      <th>payment_type</th>\n",
       "      <th>...</th>\n",
       "      <th>extra</th>\n",
       "      <th>mta_tax</th>\n",
       "      <th>tip_amount</th>\n",
       "      <th>tolls_amount</th>\n",
       "      <th>improvement_surcharge</th>\n",
       "      <th>total_amount</th>\n",
       "      <th>congestion_surcharge</th>\n",
       "      <th>airport_fee</th>\n",
       "      <th>duation</th>\n",
       "      <th>duationmins</th>\n",
       "    </tr>\n",
       "  </thead>\n",
       "  <tbody>\n",
       "    <tr>\n",
       "      <th>722332</th>\n",
       "      <td>1</td>\n",
       "      <td>2022-01-11 11:41:01</td>\n",
       "      <td>2022-01-11 11:56:29</td>\n",
       "      <td>2.0</td>\n",
       "      <td>2.60</td>\n",
       "      <td>1.0</td>\n",
       "      <td>N</td>\n",
       "      <td>113</td>\n",
       "      <td>161</td>\n",
       "      <td>1</td>\n",
       "      <td>...</td>\n",
       "      <td>2.5</td>\n",
       "      <td>0.5</td>\n",
       "      <td>3.80</td>\n",
       "      <td>0.0</td>\n",
       "      <td>0.3</td>\n",
       "      <td>19.10</td>\n",
       "      <td>2.5</td>\n",
       "      <td>0.0</td>\n",
       "      <td>0 days 00:15:28</td>\n",
       "      <td>15.466667</td>\n",
       "    </tr>\n",
       "    <tr>\n",
       "      <th>663591</th>\n",
       "      <td>2</td>\n",
       "      <td>2022-01-10 14:35:14</td>\n",
       "      <td>2022-01-10 14:49:27</td>\n",
       "      <td>1.0</td>\n",
       "      <td>1.61</td>\n",
       "      <td>1.0</td>\n",
       "      <td>N</td>\n",
       "      <td>236</td>\n",
       "      <td>162</td>\n",
       "      <td>1</td>\n",
       "      <td>...</td>\n",
       "      <td>0.0</td>\n",
       "      <td>0.5</td>\n",
       "      <td>3.45</td>\n",
       "      <td>0.0</td>\n",
       "      <td>0.3</td>\n",
       "      <td>17.25</td>\n",
       "      <td>2.5</td>\n",
       "      <td>0.0</td>\n",
       "      <td>0 days 00:14:13</td>\n",
       "      <td>14.216667</td>\n",
       "    </tr>\n",
       "    <tr>\n",
       "      <th>2127350</th>\n",
       "      <td>1</td>\n",
       "      <td>2022-01-28 06:01:22</td>\n",
       "      <td>2022-01-28 06:13:03</td>\n",
       "      <td>1.0</td>\n",
       "      <td>2.60</td>\n",
       "      <td>1.0</td>\n",
       "      <td>N</td>\n",
       "      <td>186</td>\n",
       "      <td>229</td>\n",
       "      <td>2</td>\n",
       "      <td>...</td>\n",
       "      <td>2.5</td>\n",
       "      <td>0.5</td>\n",
       "      <td>0.00</td>\n",
       "      <td>0.0</td>\n",
       "      <td>0.3</td>\n",
       "      <td>13.80</td>\n",
       "      <td>2.5</td>\n",
       "      <td>0.0</td>\n",
       "      <td>0 days 00:11:41</td>\n",
       "      <td>11.683333</td>\n",
       "    </tr>\n",
       "    <tr>\n",
       "      <th>1649476</th>\n",
       "      <td>2</td>\n",
       "      <td>2022-01-22 16:10:35</td>\n",
       "      <td>2022-01-22 16:12:20</td>\n",
       "      <td>1.0</td>\n",
       "      <td>0.31</td>\n",
       "      <td>1.0</td>\n",
       "      <td>N</td>\n",
       "      <td>237</td>\n",
       "      <td>237</td>\n",
       "      <td>1</td>\n",
       "      <td>...</td>\n",
       "      <td>0.0</td>\n",
       "      <td>0.5</td>\n",
       "      <td>1.50</td>\n",
       "      <td>0.0</td>\n",
       "      <td>0.3</td>\n",
       "      <td>8.30</td>\n",
       "      <td>2.5</td>\n",
       "      <td>0.0</td>\n",
       "      <td>0 days 00:01:45</td>\n",
       "      <td>1.750000</td>\n",
       "    </tr>\n",
       "    <tr>\n",
       "      <th>58601</th>\n",
       "      <td>2</td>\n",
       "      <td>2022-01-01 22:58:09</td>\n",
       "      <td>2022-01-01 23:07:48</td>\n",
       "      <td>1.0</td>\n",
       "      <td>1.86</td>\n",
       "      <td>1.0</td>\n",
       "      <td>N</td>\n",
       "      <td>158</td>\n",
       "      <td>164</td>\n",
       "      <td>1</td>\n",
       "      <td>...</td>\n",
       "      <td>0.5</td>\n",
       "      <td>0.5</td>\n",
       "      <td>2.56</td>\n",
       "      <td>0.0</td>\n",
       "      <td>0.3</td>\n",
       "      <td>15.36</td>\n",
       "      <td>2.5</td>\n",
       "      <td>0.0</td>\n",
       "      <td>0 days 00:09:39</td>\n",
       "      <td>9.650000</td>\n",
       "    </tr>\n",
       "  </tbody>\n",
       "</table>\n",
       "<p>5 rows × 21 columns</p>\n",
       "</div>"
      ],
      "text/plain": [
       "         VendorID tpep_pickup_datetime tpep_dropoff_datetime  passenger_count  \\\n",
       "722332          1  2022-01-11 11:41:01   2022-01-11 11:56:29              2.0   \n",
       "663591          2  2022-01-10 14:35:14   2022-01-10 14:49:27              1.0   \n",
       "2127350         1  2022-01-28 06:01:22   2022-01-28 06:13:03              1.0   \n",
       "1649476         2  2022-01-22 16:10:35   2022-01-22 16:12:20              1.0   \n",
       "58601           2  2022-01-01 22:58:09   2022-01-01 23:07:48              1.0   \n",
       "\n",
       "         trip_distance  RatecodeID store_and_fwd_flag  PULocationID  \\\n",
       "722332            2.60         1.0                  N           113   \n",
       "663591            1.61         1.0                  N           236   \n",
       "2127350           2.60         1.0                  N           186   \n",
       "1649476           0.31         1.0                  N           237   \n",
       "58601             1.86         1.0                  N           158   \n",
       "\n",
       "         DOLocationID  payment_type  ...  extra  mta_tax  tip_amount  \\\n",
       "722332            161             1  ...    2.5      0.5        3.80   \n",
       "663591            162             1  ...    0.0      0.5        3.45   \n",
       "2127350           229             2  ...    2.5      0.5        0.00   \n",
       "1649476           237             1  ...    0.0      0.5        1.50   \n",
       "58601             164             1  ...    0.5      0.5        2.56   \n",
       "\n",
       "         tolls_amount  improvement_surcharge  total_amount  \\\n",
       "722332            0.0                    0.3         19.10   \n",
       "663591            0.0                    0.3         17.25   \n",
       "2127350           0.0                    0.3         13.80   \n",
       "1649476           0.0                    0.3          8.30   \n",
       "58601             0.0                    0.3         15.36   \n",
       "\n",
       "         congestion_surcharge  airport_fee         duation duationmins  \n",
       "722332                    2.5          0.0 0 days 00:15:28   15.466667  \n",
       "663591                    2.5          0.0 0 days 00:14:13   14.216667  \n",
       "2127350                   2.5          0.0 0 days 00:11:41   11.683333  \n",
       "1649476                   2.5          0.0 0 days 00:01:45    1.750000  \n",
       "58601                     2.5          0.0 0 days 00:09:39    9.650000  \n",
       "\n",
       "[5 rows x 21 columns]"
      ]
     },
     "execution_count": 12,
     "metadata": {},
     "output_type": "execute_result"
    }
   ],
   "source": [
    "dfManhattan['duation'] = dfManhattan['tpep_dropoff_datetime'] - dfManhattan['tpep_pickup_datetime']\n",
    "dfManhattan['duationmins'] = dfManhattan['duation'].dt.total_seconds()/60\n",
    "dfManhattan.head()"
   ]
  },
  {
   "cell_type": "code",
   "execution_count": 13,
   "metadata": {},
   "outputs": [
    {
     "data": {
      "text/plain": [
       "count    104794.000000\n",
       "mean         11.672658\n",
       "std          41.149781\n",
       "min           0.000000\n",
       "25%           5.933333\n",
       "50%           9.191667\n",
       "75%          13.666667\n",
       "max        1439.600000\n",
       "Name: duationmins, dtype: float64"
      ]
     },
     "execution_count": 13,
     "metadata": {},
     "output_type": "execute_result"
    }
   ],
   "source": [
    "dfManhattan['duationmins'].describe()"
   ]
  },
  {
   "cell_type": "code",
   "execution_count": 14,
   "metadata": {},
   "outputs": [
    {
     "data": {
      "text/plain": [
       "[Text(0.5, 1.0, 'Histograma de duración de los viajes')]"
      ]
     },
     "execution_count": 14,
     "metadata": {},
     "output_type": "execute_result"
    },
    {
     "data": {
      "image/png": "[encoded data removed]",
      "text/plain": [
       "<Figure size 640x480 with 1 Axes>"
      ]
     },
     "metadata": {},
     "output_type": "display_data"
    }
   ],
   "source": [
    "histo = sns.histplot(data=dfManhattan, x='duationmins')\n",
    "histo.set(xlim=(0,dfManhattan['duationmins'].mean() + 0.5*dfManhattan['duationmins'].std()))\n",
    "histo.set(xlabel='Duracion (min)')\n",
    "histo.set(title='Histograma de duración de los viajes')"
   ]
  },
  {
   "cell_type": "code",
   "execution_count": 15,
   "metadata": {},
   "outputs": [
    {
     "data": {
      "text/plain": [
       "[Text(0.5, 1.0, 'Histograma del pago total de los viajes')]"
      ]
     },
     "execution_count": 15,
     "metadata": {},
     "output_type": "execute_result"
    },
    {
     "data": {
      "image/png": "[encoded data removed]",
      "text/plain": [
       "<Figure size 640x480 with 1 Axes>"
      ]
     },
     "metadata": {},
     "output_type": "display_data"
    }
   ],
   "source": [
    "histo2 = sns.histplot(data=dfManhattan, x='total_amount', binwidth=1)\n",
    "histo2.set(xlim=(0,dfManhattan['total_amount'].mean() + 2*dfManhattan['total_amount'].std()))\n",
    "histo2.set(xlabel='Monto Total (USD)')\n",
    "histo2.set(title='Histograma del pago total de los viajes')"
   ]
  },
  {
   "cell_type": "code",
   "execution_count": null,
   "metadata": {},
   "outputs": [],
   "source": []
  },
  {
   "cell_type": "code",
   "execution_count": 34,
   "metadata": {},
   "outputs": [],
   "source": [
    "histo.figure.savefig('durationHist.jpg')\n",
    "histo2.figure.savefig('totalAmountHist.jpg')"
   ]
  }
 ],
 "metadata": {
  "kernelspec": {
   "display_name": "Python 3",
   "language": "python",
   "name": "python3"
  },
  "language_info": {
   "codemirror_mode": {
    "name": "ipython",
    "version": 3
   },
   "file_extension": ".py",
   "mimetype": "text/x-python",
   "name": "python",
   "nbconvert_exporter": "python",
   "pygments_lexer": "ipython3",
   "version": "3.11.2"
  },
  "orig_nbformat": 4
 },
 "nbformat": 4,
 "nbformat_minor": 2
}
