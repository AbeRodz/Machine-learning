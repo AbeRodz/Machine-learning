{
  "cells": [
    {
      "cell_type": "markdown",
      "metadata": {
        "id": "view-in-github",
        "colab_type": "text"
      },
      "source": [
        "<a href=\"https://colab.research.google.com/github/AbeRodz/Machine-learning/blob/analisis_inicial/Analisis_inicial.ipynb\" target=\"_parent\"><img src=\"https://colab.research.google.com/assets/colab-badge.svg\" alt=\"Open In Colab\"/></a>"
      ]
    },
    {
      "cell_type": "code",
      "source": [
        "pip install geopandas pyshp"
      ],
      "metadata": {
        "colab": {
          "base_uri": "https://localhost:8080/"
        },
        "id": "loi1xUEhQ5lG",
        "outputId": "1bf2202d-4c74-4c26-b3cb-0c1f0f8338f3"
      },
      "execution_count": null,
      "outputs": [
        {
          "output_type": "stream",
          "name": "stdout",
          "text": [
            "Looking in indexes: https://pypi.org/simple, https://us-python.pkg.dev/colab-wheels/public/simple/\n",
            "Collecting geopandas\n",
            "  Downloading geopandas-0.12.2-py3-none-any.whl (1.1 MB)\n",
            "\u001b[2K     \u001b[90m━━━━━━━━━━━━━━━━━━━━━━━━━━━━━━━━━━━━━━━━\u001b[0m \u001b[32m1.1/1.1 MB\u001b[0m \u001b[31m21.0 MB/s\u001b[0m eta \u001b[36m0:00:00\u001b[0m\n",
            "\u001b[?25hCollecting pyshp\n",
            "  Downloading pyshp-2.3.1-py2.py3-none-any.whl (46 kB)\n",
            "\u001b[2K     \u001b[90m━━━━━━━━━━━━━━━━━━━━━━━━━━━━━━━━━━━━━━━━\u001b[0m \u001b[32m46.5/46.5 KB\u001b[0m \u001b[31m3.1 MB/s\u001b[0m eta \u001b[36m0:00:00\u001b[0m\n",
            "\u001b[?25hRequirement already satisfied: pandas>=1.0.0 in /usr/local/lib/python3.9/dist-packages (from geopandas) (1.4.4)\n",
            "Requirement already satisfied: packaging in /usr/local/lib/python3.9/dist-packages (from geopandas) (23.0)\n",
            "Collecting fiona>=1.8\n",
            "  Downloading Fiona-1.9.2-cp39-cp39-manylinux_2_17_x86_64.manylinux2014_x86_64.whl (16.1 MB)\n",
            "\u001b[2K     \u001b[90m━━━━━━━━━━━━━━━━━━━━━━━━━━━━━━━━━━━━━━━━\u001b[0m \u001b[32m16.1/16.1 MB\u001b[0m \u001b[31m50.1 MB/s\u001b[0m eta \u001b[36m0:00:00\u001b[0m\n",
            "\u001b[?25hRequirement already satisfied: shapely>=1.7 in /usr/local/lib/python3.9/dist-packages (from geopandas) (2.0.1)\n",
            "Collecting pyproj>=2.6.1.post1\n",
            "  Downloading pyproj-3.5.0-cp39-cp39-manylinux_2_17_x86_64.manylinux2014_x86_64.whl (7.8 MB)\n",
            "\u001b[2K     \u001b[90m━━━━━━━━━━━━━━━━━━━━━━━━━━━━━━━━━━━━━━━━\u001b[0m \u001b[32m7.8/7.8 MB\u001b[0m \u001b[31m30.9 MB/s\u001b[0m eta \u001b[36m0:00:00\u001b[0m\n",
            "\u001b[?25hRequirement already satisfied: click~=8.0 in /usr/local/lib/python3.9/dist-packages (from fiona>=1.8->geopandas) (8.1.3)\n",
            "Collecting munch>=2.3.2\n",
            "  Downloading munch-2.5.0-py2.py3-none-any.whl (10 kB)\n",
            "Requirement already satisfied: certifi in /usr/local/lib/python3.9/dist-packages (from fiona>=1.8->geopandas) (2022.12.7)\n",
            "Requirement already satisfied: importlib-metadata in /usr/local/lib/python3.9/dist-packages (from fiona>=1.8->geopandas) (6.1.0)\n",
            "Collecting click-plugins>=1.0\n",
            "  Downloading click_plugins-1.1.1-py2.py3-none-any.whl (7.5 kB)\n",
            "Requirement already satisfied: attrs>=19.2.0 in /usr/local/lib/python3.9/dist-packages (from fiona>=1.8->geopandas) (22.2.0)\n",
            "Collecting cligj>=0.5\n",
            "  Downloading cligj-0.7.2-py3-none-any.whl (7.1 kB)\n",
            "Requirement already satisfied: pytz>=2020.1 in /usr/local/lib/python3.9/dist-packages (from pandas>=1.0.0->geopandas) (2022.7.1)\n",
            "Requirement already satisfied: numpy>=1.18.5 in /usr/local/lib/python3.9/dist-packages (from pandas>=1.0.0->geopandas) (1.22.4)\n",
            "Requirement already satisfied: python-dateutil>=2.8.1 in /usr/local/lib/python3.9/dist-packages (from pandas>=1.0.0->geopandas) (2.8.2)\n",
            "Requirement already satisfied: six in /usr/local/lib/python3.9/dist-packages (from munch>=2.3.2->fiona>=1.8->geopandas) (1.16.0)\n",
            "Requirement already satisfied: zipp>=0.5 in /usr/local/lib/python3.9/dist-packages (from importlib-metadata->fiona>=1.8->geopandas) (3.15.0)\n",
            "Installing collected packages: pyshp, pyproj, munch, cligj, click-plugins, fiona, geopandas\n",
            "Successfully installed click-plugins-1.1.1 cligj-0.7.2 fiona-1.9.2 geopandas-0.12.2 munch-2.5.0 pyproj-3.5.0 pyshp-2.3.1\n"
          ]
        }
      ]
    },
    {
      "cell_type": "code",
      "source": [
        "from google.colab import drive\n",
        "drive.mount('/content/drive')"
      ],
      "metadata": {
        "colab": {
          "base_uri": "https://localhost:8080/"
        },
        "id": "LituYnfwQ82-",
        "outputId": "f09cf1cb-b5ab-4476-af13-4c123c76cafa"
      },
      "execution_count": null,
      "outputs": [
        {
          "output_type": "stream",
          "name": "stdout",
          "text": [
            "Drive already mounted at /content/drive; to attempt to forcibly remount, call drive.mount(\"/content/drive\", force_remount=True).\n"
          ]
        }
      ]
    },
    {
      "cell_type": "code",
      "source": [
        "cd drive/MyDrive/dataset/"
      ],
      "metadata": {
        "colab": {
          "base_uri": "https://localhost:8080/"
        },
        "id": "8ku4rs0tQ94T",
        "outputId": "1218ce6f-f3dd-433f-8e48-90d1ae209911"
      },
      "execution_count": null,
      "outputs": [
        {
          "output_type": "stream",
          "name": "stdout",
          "text": [
            "/content/drive/MyDrive/dataset\n"
          ]
        }
      ]
    },
    {
      "cell_type": "code",
      "execution_count": null,
      "metadata": {
        "id": "N3vQT6QaQ0a_"
      },
      "outputs": [],
      "source": [
        "import pandas as pd\n",
        "from pandas.tseries.holiday import USFederalHolidayCalendar as calendar\n",
        "import matplotlib.pyplot as plt\n",
        "import shapefile as shp\n",
        "import seaborn as sns\n",
        "import numpy as np\n",
        "import geopandas as gpd"
      ]
    },
    {
      "cell_type": "code",
      "execution_count": null,
      "metadata": {
        "id": "8OdbuyRpQ0bB"
      },
      "outputs": [],
      "source": [
        "def open_sample_from_file(path : str,column_to_search: str = None , search_value:str = None, show_columns = False) -> pd.DataFrame:\n",
        "    \"\"\"\n",
        "    Helper function to read a file sample with optional search conditions\n",
        "    \"\"\"\n",
        "    parquet = path.endswith('parquet')\n",
        "    func = getattr(pd, f'read_csv')\n",
        "    if parquet:\n",
        "        engine = 'auto'\n",
        "        func = getattr(pd, f'read_parquet')\n",
        "        return func(path, engine)\n",
        "    \n",
        "    if column_to_search:\n",
        "        if search_value != None:\n",
        "            df = func(path)\n",
        "            return df[df[column_to_search] == search_value]\n",
        "        \n",
        "        return func(path)[column_to_search] \n",
        "\n",
        "    if show_columns:\n",
        "        return func(path).columns\n",
        "\n",
        "    return func(path)"
      ]
    },
    {
      "cell_type": "code",
      "execution_count": null,
      "metadata": {
        "id": "Xps_nPRpQ0bC"
      },
      "outputs": [],
      "source": [
        "def open_season(path: str = \"./dataset/\",season: str = \"winter\", drop_values = True) -> pd.DataFrame:\n",
        "    \"\"\"\n",
        "    Helper function to open and separate the dataset on seasons.\n",
        "    \"\"\"\n",
        "    seasons = {\"winter\":[path + \"yellow_tripdata_2022-01.parquet\",path + \"yellow_tripdata_2022-02.parquet\"\n",
        "                          ],\n",
        "               \"spring\":[path +\"yellow_tripdata_2022-03.parquet\",path + \"yellow_tripdata_2022-05.parquet\"\n",
        "                          ],\n",
        "               \"summer\":[path + \"yellow_tripdata_2022-06.parquet\",path + \"yellow_tripdata_2022-08.parquet\"\n",
        "                          ],\n",
        "               \"autumn\" :[path + \"yellow_tripdata_2022-09.parquet\",path + \"yellow_tripdata_2022-11.parquet\"\n",
        "                          ]\n",
        "               }\n",
        "    if season in seasons:\n",
        "  \n",
        "      df  = pd.concat(\n",
        "      map(pd.read_parquet, seasons.get(season)), ignore_index=True)\n",
        "      if drop_values:\n",
        "        df = df.drop(['store_and_fwd_flag', 'extra', 'mta_tax', 'improvement_surcharge', 'congestion_surcharge'], axis=1)\n",
        "      return df\n",
        "    return False"
      ]
    },
    {
      "cell_type": "code",
      "execution_count": null,
      "metadata": {
        "id": "lcUicYxCQ0bD"
      },
      "outputs": [],
      "source": [
        "df = open_season(path = \"\",season= \"winter\")"
      ]
    },
    {
      "cell_type": "code",
      "execution_count": null,
      "metadata": {
        "colab": {
          "base_uri": "https://localhost:8080/"
        },
        "id": "KAmE_WusQ0bD",
        "outputId": "32ec32f4-b0af-4215-f8ea-0d3a995c6f09"
      },
      "outputs": [
        {
          "output_type": "execute_result",
          "data": {
            "text/plain": [
              "Index(['VendorID', 'tpep_pickup_datetime', 'tpep_dropoff_datetime',\n",
              "       'passenger_count', 'trip_distance', 'RatecodeID', 'PULocationID',\n",
              "       'DOLocationID', 'payment_type', 'fare_amount', 'tip_amount',\n",
              "       'tolls_amount', 'total_amount', 'airport_fee'],\n",
              "      dtype='object')"
            ]
          },
          "metadata": {},
          "execution_count": 49
        }
      ],
      "source": [
        "df.columns"
      ]
    },
    {
      "cell_type": "code",
      "execution_count": null,
      "metadata": {
        "colab": {
          "base_uri": "https://localhost:8080/"
        },
        "id": "NQCtCPOyQ0bE",
        "outputId": "1b0896cd-ee6b-4429-b6d9-a22919c0bd47"
      },
      "outputs": [
        {
          "output_type": "stream",
          "name": "stdout",
          "text": [
            "<class 'pandas.core.frame.DataFrame'>\n",
            "RangeIndex: 5443362 entries, 0 to 5443361\n",
            "Data columns (total 14 columns):\n",
            " #   Column                 Dtype         \n",
            "---  ------                 -----         \n",
            " 0   VendorID               int64         \n",
            " 1   tpep_pickup_datetime   datetime64[ns]\n",
            " 2   tpep_dropoff_datetime  datetime64[ns]\n",
            " 3   passenger_count        float64       \n",
            " 4   trip_distance          float64       \n",
            " 5   RatecodeID             float64       \n",
            " 6   PULocationID           int64         \n",
            " 7   DOLocationID           int64         \n",
            " 8   payment_type           int64         \n",
            " 9   fare_amount            float64       \n",
            " 10  tip_amount             float64       \n",
            " 11  tolls_amount           float64       \n",
            " 12  total_amount           float64       \n",
            " 13  airport_fee            float64       \n",
            "dtypes: datetime64[ns](2), float64(8), int64(4)\n",
            "memory usage: 581.4 MB\n"
          ]
        }
      ],
      "source": [
        "df.info()"
      ]
    },
    {
      "cell_type": "markdown",
      "metadata": {
        "id": "KDHm1NDJQ0bF"
      },
      "source": [
        "## 2. Análisis exploratorio inicial"
      ]
    },
    {
      "cell_type": "markdown",
      "metadata": {
        "id": "RZyKV56IQ0bG"
      },
      "source": [
        "### Visualizar las primeras filas."
      ]
    },
    {
      "cell_type": "code",
      "execution_count": null,
      "metadata": {
        "colab": {
          "base_uri": "https://localhost:8080/",
          "height": 206
        },
        "id": "JXKQQvYqQ0bG",
        "outputId": "8ac22617-d45c-4ee8-ad73-416dc40424a2"
      },
      "outputs": [
        {
          "output_type": "execute_result",
          "data": {
            "text/plain": [
              "   VendorID tpep_pickup_datetime tpep_dropoff_datetime  passenger_count  \\\n",
              "0         1  2022-01-01 00:35:40   2022-01-01 00:53:29              2.0   \n",
              "1         1  2022-01-01 00:33:43   2022-01-01 00:42:07              1.0   \n",
              "2         2  2022-01-01 00:53:21   2022-01-01 01:02:19              1.0   \n",
              "3         2  2022-01-01 00:25:21   2022-01-01 00:35:23              1.0   \n",
              "4         2  2022-01-01 00:36:48   2022-01-01 01:14:20              1.0   \n",
              "\n",
              "   trip_distance  RatecodeID  PULocationID  DOLocationID  payment_type  \\\n",
              "0           3.80         1.0           142           236             1   \n",
              "1           2.10         1.0           236            42             1   \n",
              "2           0.97         1.0           166           166             1   \n",
              "3           1.09         1.0           114            68             2   \n",
              "4           4.30         1.0            68           163             1   \n",
              "\n",
              "   fare_amount  tip_amount  tolls_amount  total_amount  airport_fee  \n",
              "0         14.5        3.65           0.0         21.95          0.0  \n",
              "1          8.0        4.00           0.0         13.30          0.0  \n",
              "2          7.5        1.76           0.0         10.56          0.0  \n",
              "3          8.0        0.00           0.0         11.80          0.0  \n",
              "4         23.5        3.00           0.0         30.30          0.0  "
            ],
            "text/html": [
              "\n",
              "  <div id=\"df-111ae7b1-cc9e-4135-b878-7023808cd0f3\">\n",
              "    <div class=\"colab-df-container\">\n",
              "      <div>\n",
              "<style scoped>\n",
              "    .dataframe tbody tr th:only-of-type {\n",
              "        vertical-align: middle;\n",
              "    }\n",
              "\n",
              "    .dataframe tbody tr th {\n",
              "        vertical-align: top;\n",
              "    }\n",
              "\n",
              "    .dataframe thead th {\n",
              "        text-align: right;\n",
              "    }\n",
              "</style>\n",
              "<table border=\"1\" class=\"dataframe\">\n",
              "  <thead>\n",
              "    <tr style=\"text-align: right;\">\n",
              "      <th></th>\n",
              "      <th>VendorID</th>\n",
              "      <th>tpep_pickup_datetime</th>\n",
              "      <th>tpep_dropoff_datetime</th>\n",
              "      <th>passenger_count</th>\n",
              "      <th>trip_distance</th>\n",
              "      <th>RatecodeID</th>\n",
              "      <th>PULocationID</th>\n",
              "      <th>DOLocationID</th>\n",
              "      <th>payment_type</th>\n",
              "      <th>fare_amount</th>\n",
              "      <th>tip_amount</th>\n",
              "      <th>tolls_amount</th>\n",
              "      <th>total_amount</th>\n",
              "      <th>airport_fee</th>\n",
              "    </tr>\n",
              "  </thead>\n",
              "  <tbody>\n",
              "    <tr>\n",
              "      <th>0</th>\n",
              "      <td>1</td>\n",
              "      <td>2022-01-01 00:35:40</td>\n",
              "      <td>2022-01-01 00:53:29</td>\n",
              "      <td>2.0</td>\n",
              "      <td>3.80</td>\n",
              "      <td>1.0</td>\n",
              "      <td>142</td>\n",
              "      <td>236</td>\n",
              "      <td>1</td>\n",
              "      <td>14.5</td>\n",
              "      <td>3.65</td>\n",
              "      <td>0.0</td>\n",
              "      <td>21.95</td>\n",
              "      <td>0.0</td>\n",
              "    </tr>\n",
              "    <tr>\n",
              "      <th>1</th>\n",
              "      <td>1</td>\n",
              "      <td>2022-01-01 00:33:43</td>\n",
              "      <td>2022-01-01 00:42:07</td>\n",
              "      <td>1.0</td>\n",
              "      <td>2.10</td>\n",
              "      <td>1.0</td>\n",
              "      <td>236</td>\n",
              "      <td>42</td>\n",
              "      <td>1</td>\n",
              "      <td>8.0</td>\n",
              "      <td>4.00</td>\n",
              "      <td>0.0</td>\n",
              "      <td>13.30</td>\n",
              "      <td>0.0</td>\n",
              "    </tr>\n",
              "    <tr>\n",
              "      <th>2</th>\n",
              "      <td>2</td>\n",
              "      <td>2022-01-01 00:53:21</td>\n",
              "      <td>2022-01-01 01:02:19</td>\n",
              "      <td>1.0</td>\n",
              "      <td>0.97</td>\n",
              "      <td>1.0</td>\n",
              "      <td>166</td>\n",
              "      <td>166</td>\n",
              "      <td>1</td>\n",
              "      <td>7.5</td>\n",
              "      <td>1.76</td>\n",
              "      <td>0.0</td>\n",
              "      <td>10.56</td>\n",
              "      <td>0.0</td>\n",
              "    </tr>\n",
              "    <tr>\n",
              "      <th>3</th>\n",
              "      <td>2</td>\n",
              "      <td>2022-01-01 00:25:21</td>\n",
              "      <td>2022-01-01 00:35:23</td>\n",
              "      <td>1.0</td>\n",
              "      <td>1.09</td>\n",
              "      <td>1.0</td>\n",
              "      <td>114</td>\n",
              "      <td>68</td>\n",
              "      <td>2</td>\n",
              "      <td>8.0</td>\n",
              "      <td>0.00</td>\n",
              "      <td>0.0</td>\n",
              "      <td>11.80</td>\n",
              "      <td>0.0</td>\n",
              "    </tr>\n",
              "    <tr>\n",
              "      <th>4</th>\n",
              "      <td>2</td>\n",
              "      <td>2022-01-01 00:36:48</td>\n",
              "      <td>2022-01-01 01:14:20</td>\n",
              "      <td>1.0</td>\n",
              "      <td>4.30</td>\n",
              "      <td>1.0</td>\n",
              "      <td>68</td>\n",
              "      <td>163</td>\n",
              "      <td>1</td>\n",
              "      <td>23.5</td>\n",
              "      <td>3.00</td>\n",
              "      <td>0.0</td>\n",
              "      <td>30.30</td>\n",
              "      <td>0.0</td>\n",
              "    </tr>\n",
              "  </tbody>\n",
              "</table>\n",
              "</div>\n",
              "      <button class=\"colab-df-convert\" onclick=\"convertToInteractive('df-111ae7b1-cc9e-4135-b878-7023808cd0f3')\"\n",
              "              title=\"Convert this dataframe to an interactive table.\"\n",
              "              style=\"display:none;\">\n",
              "        \n",
              "  <svg xmlns=\"http://www.w3.org/2000/svg\" height=\"24px\"viewBox=\"0 0 24 24\"\n",
              "       width=\"24px\">\n",
              "    <path d=\"M0 0h24v24H0V0z\" fill=\"none\"/>\n",
              "    <path d=\"M18.56 5.44l.94 2.06.94-2.06 2.06-.94-2.06-.94-.94-2.06-.94 2.06-2.06.94zm-11 1L8.5 8.5l.94-2.06 2.06-.94-2.06-.94L8.5 2.5l-.94 2.06-2.06.94zm10 10l.94 2.06.94-2.06 2.06-.94-2.06-.94-.94-2.06-.94 2.06-2.06.94z\"/><path d=\"M17.41 7.96l-1.37-1.37c-.4-.4-.92-.59-1.43-.59-.52 0-1.04.2-1.43.59L10.3 9.45l-7.72 7.72c-.78.78-.78 2.05 0 2.83L4 21.41c.39.39.9.59 1.41.59.51 0 1.02-.2 1.41-.59l7.78-7.78 2.81-2.81c.8-.78.8-2.07 0-2.86zM5.41 20L4 18.59l7.72-7.72 1.47 1.35L5.41 20z\"/>\n",
              "  </svg>\n",
              "      </button>\n",
              "      \n",
              "  <style>\n",
              "    .colab-df-container {\n",
              "      display:flex;\n",
              "      flex-wrap:wrap;\n",
              "      gap: 12px;\n",
              "    }\n",
              "\n",
              "    .colab-df-convert {\n",
              "      background-color: #E8F0FE;\n",
              "      border: none;\n",
              "      border-radius: 50%;\n",
              "      cursor: pointer;\n",
              "      display: none;\n",
              "      fill: #1967D2;\n",
              "      height: 32px;\n",
              "      padding: 0 0 0 0;\n",
              "      width: 32px;\n",
              "    }\n",
              "\n",
              "    .colab-df-convert:hover {\n",
              "      background-color: #E2EBFA;\n",
              "      box-shadow: 0px 1px 2px rgba(60, 64, 67, 0.3), 0px 1px 3px 1px rgba(60, 64, 67, 0.15);\n",
              "      fill: #174EA6;\n",
              "    }\n",
              "\n",
              "    [theme=dark] .colab-df-convert {\n",
              "      background-color: #3B4455;\n",
              "      fill: #D2E3FC;\n",
              "    }\n",
              "\n",
              "    [theme=dark] .colab-df-convert:hover {\n",
              "      background-color: #434B5C;\n",
              "      box-shadow: 0px 1px 3px 1px rgba(0, 0, 0, 0.15);\n",
              "      filter: drop-shadow(0px 1px 2px rgba(0, 0, 0, 0.3));\n",
              "      fill: #FFFFFF;\n",
              "    }\n",
              "  </style>\n",
              "\n",
              "      <script>\n",
              "        const buttonEl =\n",
              "          document.querySelector('#df-111ae7b1-cc9e-4135-b878-7023808cd0f3 button.colab-df-convert');\n",
              "        buttonEl.style.display =\n",
              "          google.colab.kernel.accessAllowed ? 'block' : 'none';\n",
              "\n",
              "        async function convertToInteractive(key) {\n",
              "          const element = document.querySelector('#df-111ae7b1-cc9e-4135-b878-7023808cd0f3');\n",
              "          const dataTable =\n",
              "            await google.colab.kernel.invokeFunction('convertToInteractive',\n",
              "                                                     [key], {});\n",
              "          if (!dataTable) return;\n",
              "\n",
              "          const docLinkHtml = 'Like what you see? Visit the ' +\n",
              "            '<a target=\"_blank\" href=https://colab.research.google.com/notebooks/data_table.ipynb>data table notebook</a>'\n",
              "            + ' to learn more about interactive tables.';\n",
              "          element.innerHTML = '';\n",
              "          dataTable['output_type'] = 'display_data';\n",
              "          await google.colab.output.renderOutput(dataTable, element);\n",
              "          const docLink = document.createElement('div');\n",
              "          docLink.innerHTML = docLinkHtml;\n",
              "          element.appendChild(docLink);\n",
              "        }\n",
              "      </script>\n",
              "    </div>\n",
              "  </div>\n",
              "  "
            ]
          },
          "metadata": {},
          "execution_count": 51
        }
      ],
      "source": [
        "df.head(5)"
      ]
    },
    {
      "cell_type": "markdown",
      "metadata": {
        "id": "R16eID2XQ0bH"
      },
      "source": [
        "## Realizar un resumen de 5 números."
      ]
    },
    {
      "cell_type": "code",
      "execution_count": null,
      "metadata": {
        "colab": {
          "base_uri": "https://localhost:8080/",
          "height": 300
        },
        "id": "LdFjTzjnQ0bH",
        "outputId": "114574af-34a7-4cf1-e1ad-f437e6031082"
      },
      "outputs": [
        {
          "output_type": "execute_result",
          "data": {
            "text/plain": [
              "           VendorID  passenger_count  trip_distance    RatecodeID  \\\n",
              "count  5.443362e+06     5.270121e+06   5.443362e+06  5.270121e+06   \n",
              "mean   1.709109e+00     1.390917e+00   5.635142e+00  1.419827e+00   \n",
              "std    5.017359e-01     9.836000e-01   6.015312e+02  5.972370e+00   \n",
              "min    1.000000e+00     0.000000e+00   0.000000e+00  1.000000e+00   \n",
              "25%    1.000000e+00     1.000000e+00   1.060000e+00  1.000000e+00   \n",
              "50%    2.000000e+00     1.000000e+00   1.770000e+00  1.000000e+00   \n",
              "75%    2.000000e+00     1.000000e+00   3.170000e+00  1.000000e+00   \n",
              "max    6.000000e+00     9.000000e+00   3.487985e+05  9.900000e+01   \n",
              "\n",
              "       PULocationID  DOLocationID  payment_type   fare_amount    tip_amount  \\\n",
              "count  5.443362e+06  5.443362e+06  5.443362e+06  5.443362e+06  5.443362e+06   \n",
              "mean   1.657783e+02  1.635005e+02  1.183061e+00  1.304498e+01  2.448713e+00   \n",
              "std    6.554616e+01  7.058795e+01  4.975932e-01  1.723407e+02  2.808154e+00   \n",
              "min    1.000000e+00  1.000000e+00  0.000000e+00 -6.000000e+02 -1.880000e+02   \n",
              "25%    1.320000e+02  1.130000e+02  1.000000e+00  6.500000e+00  1.000000e+00   \n",
              "50%    1.620000e+02  1.620000e+02  1.000000e+00  9.500000e+00  2.050000e+00   \n",
              "75%    2.340000e+02  2.340000e+02  1.000000e+00  1.400000e+01  3.060000e+00   \n",
              "max    2.650000e+02  2.650000e+02  5.000000e+00  4.010923e+05  8.888800e+02   \n",
              "\n",
              "       tolls_amount  total_amount   airport_fee  \n",
              "count  5.443362e+06  5.443362e+06  5.270121e+06  \n",
              "mean   3.793579e-01  1.934911e+01  7.766212e-02  \n",
              "std    1.675431e+00  1.725652e+02  3.038566e-01  \n",
              "min   -3.140000e+01 -6.003000e+02 -1.250000e+00  \n",
              "25%    0.000000e+00  1.175000e+01  0.000000e+00  \n",
              "50%    0.000000e+00  1.476000e+01  0.000000e+00  \n",
              "75%    0.000000e+00  2.047000e+01  0.000000e+00  \n",
              "max    1.933000e+02  4.010956e+05  1.250000e+00  "
            ],
            "text/html": [
              "\n",
              "  <div id=\"df-953f5d7a-425b-4762-9fed-52f744484bb4\">\n",
              "    <div class=\"colab-df-container\">\n",
              "      <div>\n",
              "<style scoped>\n",
              "    .dataframe tbody tr th:only-of-type {\n",
              "        vertical-align: middle;\n",
              "    }\n",
              "\n",
              "    .dataframe tbody tr th {\n",
              "        vertical-align: top;\n",
              "    }\n",
              "\n",
              "    .dataframe thead th {\n",
              "        text-align: right;\n",
              "    }\n",
              "</style>\n",
              "<table border=\"1\" class=\"dataframe\">\n",
              "  <thead>\n",
              "    <tr style=\"text-align: right;\">\n",
              "      <th></th>\n",
              "      <th>VendorID</th>\n",
              "      <th>passenger_count</th>\n",
              "      <th>trip_distance</th>\n",
              "      <th>RatecodeID</th>\n",
              "      <th>PULocationID</th>\n",
              "      <th>DOLocationID</th>\n",
              "      <th>payment_type</th>\n",
              "      <th>fare_amount</th>\n",
              "      <th>tip_amount</th>\n",
              "      <th>tolls_amount</th>\n",
              "      <th>total_amount</th>\n",
              "      <th>airport_fee</th>\n",
              "    </tr>\n",
              "  </thead>\n",
              "  <tbody>\n",
              "    <tr>\n",
              "      <th>count</th>\n",
              "      <td>5.443362e+06</td>\n",
              "      <td>5.270121e+06</td>\n",
              "      <td>5.443362e+06</td>\n",
              "      <td>5.270121e+06</td>\n",
              "      <td>5.443362e+06</td>\n",
              "      <td>5.443362e+06</td>\n",
              "      <td>5.443362e+06</td>\n",
              "      <td>5.443362e+06</td>\n",
              "      <td>5.443362e+06</td>\n",
              "      <td>5.443362e+06</td>\n",
              "      <td>5.443362e+06</td>\n",
              "      <td>5.270121e+06</td>\n",
              "    </tr>\n",
              "    <tr>\n",
              "      <th>mean</th>\n",
              "      <td>1.709109e+00</td>\n",
              "      <td>1.390917e+00</td>\n",
              "      <td>5.635142e+00</td>\n",
              "      <td>1.419827e+00</td>\n",
              "      <td>1.657783e+02</td>\n",
              "      <td>1.635005e+02</td>\n",
              "      <td>1.183061e+00</td>\n",
              "      <td>1.304498e+01</td>\n",
              "      <td>2.448713e+00</td>\n",
              "      <td>3.793579e-01</td>\n",
              "      <td>1.934911e+01</td>\n",
              "      <td>7.766212e-02</td>\n",
              "    </tr>\n",
              "    <tr>\n",
              "      <th>std</th>\n",
              "      <td>5.017359e-01</td>\n",
              "      <td>9.836000e-01</td>\n",
              "      <td>6.015312e+02</td>\n",
              "      <td>5.972370e+00</td>\n",
              "      <td>6.554616e+01</td>\n",
              "      <td>7.058795e+01</td>\n",
              "      <td>4.975932e-01</td>\n",
              "      <td>1.723407e+02</td>\n",
              "      <td>2.808154e+00</td>\n",
              "      <td>1.675431e+00</td>\n",
              "      <td>1.725652e+02</td>\n",
              "      <td>3.038566e-01</td>\n",
              "    </tr>\n",
              "    <tr>\n",
              "      <th>min</th>\n",
              "      <td>1.000000e+00</td>\n",
              "      <td>0.000000e+00</td>\n",
              "      <td>0.000000e+00</td>\n",
              "      <td>1.000000e+00</td>\n",
              "      <td>1.000000e+00</td>\n",
              "      <td>1.000000e+00</td>\n",
              "      <td>0.000000e+00</td>\n",
              "      <td>-6.000000e+02</td>\n",
              "      <td>-1.880000e+02</td>\n",
              "      <td>-3.140000e+01</td>\n",
              "      <td>-6.003000e+02</td>\n",
              "      <td>-1.250000e+00</td>\n",
              "    </tr>\n",
              "    <tr>\n",
              "      <th>25%</th>\n",
              "      <td>1.000000e+00</td>\n",
              "      <td>1.000000e+00</td>\n",
              "      <td>1.060000e+00</td>\n",
              "      <td>1.000000e+00</td>\n",
              "      <td>1.320000e+02</td>\n",
              "      <td>1.130000e+02</td>\n",
              "      <td>1.000000e+00</td>\n",
              "      <td>6.500000e+00</td>\n",
              "      <td>1.000000e+00</td>\n",
              "      <td>0.000000e+00</td>\n",
              "      <td>1.175000e+01</td>\n",
              "      <td>0.000000e+00</td>\n",
              "    </tr>\n",
              "    <tr>\n",
              "      <th>50%</th>\n",
              "      <td>2.000000e+00</td>\n",
              "      <td>1.000000e+00</td>\n",
              "      <td>1.770000e+00</td>\n",
              "      <td>1.000000e+00</td>\n",
              "      <td>1.620000e+02</td>\n",
              "      <td>1.620000e+02</td>\n",
              "      <td>1.000000e+00</td>\n",
              "      <td>9.500000e+00</td>\n",
              "      <td>2.050000e+00</td>\n",
              "      <td>0.000000e+00</td>\n",
              "      <td>1.476000e+01</td>\n",
              "      <td>0.000000e+00</td>\n",
              "    </tr>\n",
              "    <tr>\n",
              "      <th>75%</th>\n",
              "      <td>2.000000e+00</td>\n",
              "      <td>1.000000e+00</td>\n",
              "      <td>3.170000e+00</td>\n",
              "      <td>1.000000e+00</td>\n",
              "      <td>2.340000e+02</td>\n",
              "      <td>2.340000e+02</td>\n",
              "      <td>1.000000e+00</td>\n",
              "      <td>1.400000e+01</td>\n",
              "      <td>3.060000e+00</td>\n",
              "      <td>0.000000e+00</td>\n",
              "      <td>2.047000e+01</td>\n",
              "      <td>0.000000e+00</td>\n",
              "    </tr>\n",
              "    <tr>\n",
              "      <th>max</th>\n",
              "      <td>6.000000e+00</td>\n",
              "      <td>9.000000e+00</td>\n",
              "      <td>3.487985e+05</td>\n",
              "      <td>9.900000e+01</td>\n",
              "      <td>2.650000e+02</td>\n",
              "      <td>2.650000e+02</td>\n",
              "      <td>5.000000e+00</td>\n",
              "      <td>4.010923e+05</td>\n",
              "      <td>8.888800e+02</td>\n",
              "      <td>1.933000e+02</td>\n",
              "      <td>4.010956e+05</td>\n",
              "      <td>1.250000e+00</td>\n",
              "    </tr>\n",
              "  </tbody>\n",
              "</table>\n",
              "</div>\n",
              "      <button class=\"colab-df-convert\" onclick=\"convertToInteractive('df-953f5d7a-425b-4762-9fed-52f744484bb4')\"\n",
              "              title=\"Convert this dataframe to an interactive table.\"\n",
              "              style=\"display:none;\">\n",
              "        \n",
              "  <svg xmlns=\"http://www.w3.org/2000/svg\" height=\"24px\"viewBox=\"0 0 24 24\"\n",
              "       width=\"24px\">\n",
              "    <path d=\"M0 0h24v24H0V0z\" fill=\"none\"/>\n",
              "    <path d=\"M18.56 5.44l.94 2.06.94-2.06 2.06-.94-2.06-.94-.94-2.06-.94 2.06-2.06.94zm-11 1L8.5 8.5l.94-2.06 2.06-.94-2.06-.94L8.5 2.5l-.94 2.06-2.06.94zm10 10l.94 2.06.94-2.06 2.06-.94-2.06-.94-.94-2.06-.94 2.06-2.06.94z\"/><path d=\"M17.41 7.96l-1.37-1.37c-.4-.4-.92-.59-1.43-.59-.52 0-1.04.2-1.43.59L10.3 9.45l-7.72 7.72c-.78.78-.78 2.05 0 2.83L4 21.41c.39.39.9.59 1.41.59.51 0 1.02-.2 1.41-.59l7.78-7.78 2.81-2.81c.8-.78.8-2.07 0-2.86zM5.41 20L4 18.59l7.72-7.72 1.47 1.35L5.41 20z\"/>\n",
              "  </svg>\n",
              "      </button>\n",
              "      \n",
              "  <style>\n",
              "    .colab-df-container {\n",
              "      display:flex;\n",
              "      flex-wrap:wrap;\n",
              "      gap: 12px;\n",
              "    }\n",
              "\n",
              "    .colab-df-convert {\n",
              "      background-color: #E8F0FE;\n",
              "      border: none;\n",
              "      border-radius: 50%;\n",
              "      cursor: pointer;\n",
              "      display: none;\n",
              "      fill: #1967D2;\n",
              "      height: 32px;\n",
              "      padding: 0 0 0 0;\n",
              "      width: 32px;\n",
              "    }\n",
              "\n",
              "    .colab-df-convert:hover {\n",
              "      background-color: #E2EBFA;\n",
              "      box-shadow: 0px 1px 2px rgba(60, 64, 67, 0.3), 0px 1px 3px 1px rgba(60, 64, 67, 0.15);\n",
              "      fill: #174EA6;\n",
              "    }\n",
              "\n",
              "    [theme=dark] .colab-df-convert {\n",
              "      background-color: #3B4455;\n",
              "      fill: #D2E3FC;\n",
              "    }\n",
              "\n",
              "    [theme=dark] .colab-df-convert:hover {\n",
              "      background-color: #434B5C;\n",
              "      box-shadow: 0px 1px 3px 1px rgba(0, 0, 0, 0.15);\n",
              "      filter: drop-shadow(0px 1px 2px rgba(0, 0, 0, 0.3));\n",
              "      fill: #FFFFFF;\n",
              "    }\n",
              "  </style>\n",
              "\n",
              "      <script>\n",
              "        const buttonEl =\n",
              "          document.querySelector('#df-953f5d7a-425b-4762-9fed-52f744484bb4 button.colab-df-convert');\n",
              "        buttonEl.style.display =\n",
              "          google.colab.kernel.accessAllowed ? 'block' : 'none';\n",
              "\n",
              "        async function convertToInteractive(key) {\n",
              "          const element = document.querySelector('#df-953f5d7a-425b-4762-9fed-52f744484bb4');\n",
              "          const dataTable =\n",
              "            await google.colab.kernel.invokeFunction('convertToInteractive',\n",
              "                                                     [key], {});\n",
              "          if (!dataTable) return;\n",
              "\n",
              "          const docLinkHtml = 'Like what you see? Visit the ' +\n",
              "            '<a target=\"_blank\" href=https://colab.research.google.com/notebooks/data_table.ipynb>data table notebook</a>'\n",
              "            + ' to learn more about interactive tables.';\n",
              "          element.innerHTML = '';\n",
              "          dataTable['output_type'] = 'display_data';\n",
              "          await google.colab.output.renderOutput(dataTable, element);\n",
              "          const docLink = document.createElement('div');\n",
              "          docLink.innerHTML = docLinkHtml;\n",
              "          element.appendChild(docLink);\n",
              "        }\n",
              "      </script>\n",
              "    </div>\n",
              "  </div>\n",
              "  "
            ]
          },
          "metadata": {},
          "execution_count": 52
        }
      ],
      "source": [
        "df.describe()"
      ]
    },
    {
      "cell_type": "markdown",
      "metadata": {
        "id": "7v8X0nQoQ0bI"
      },
      "source": [
        "### Identificar los tipos de datos: categórico, ordinal, etc. Responder para cada variable su tipo y si es informativa para un problema de clasificación (por ejemplo si se trata de un código, como una matrícula, o un nombre propio)."
      ]
    },
    {
      "cell_type": "code",
      "execution_count": null,
      "metadata": {
        "colab": {
          "base_uri": "https://localhost:8080/"
        },
        "id": "Oe5g5mFHQ0bI",
        "outputId": "de250f2b-2ccc-4982-a698-fcb92ace691f"
      },
      "outputs": [
        {
          "output_type": "execute_result",
          "data": {
            "text/plain": [
              "VendorID                          int64\n",
              "tpep_pickup_datetime     datetime64[ns]\n",
              "tpep_dropoff_datetime    datetime64[ns]\n",
              "passenger_count                 float64\n",
              "trip_distance                   float64\n",
              "RatecodeID                      float64\n",
              "PULocationID                      int64\n",
              "DOLocationID                      int64\n",
              "payment_type                      int64\n",
              "fare_amount                     float64\n",
              "tip_amount                      float64\n",
              "tolls_amount                    float64\n",
              "total_amount                    float64\n",
              "airport_fee                     float64\n",
              "dtype: object"
            ]
          },
          "metadata": {},
          "execution_count": 53
        }
      ],
      "source": [
        "df.dtypes"
      ]
    },
    {
      "cell_type": "code",
      "execution_count": null,
      "metadata": {
        "colab": {
          "base_uri": "https://localhost:8080/"
        },
        "id": "rPK8tqkJQ0bI",
        "outputId": "7ad74cc3-e716-457e-bde8-e6a173227cee"
      },
      "outputs": [
        {
          "output_type": "execute_result",
          "data": {
            "text/plain": [
              "2    3798002\n",
              "1    1632961\n",
              "6      12337\n",
              "5         62\n",
              "Name: VendorID, dtype: int64"
            ]
          },
          "metadata": {},
          "execution_count": 54
        }
      ],
      "source": [
        "df['VendorID'].value_counts()"
      ]
    },
    {
      "cell_type": "code",
      "execution_count": null,
      "metadata": {
        "colab": {
          "base_uri": "https://localhost:8080/"
        },
        "id": "MTrPw6rpQ0bJ",
        "outputId": "8fe1f68e-b4a4-45ad-ae10-ded0c60a4169"
      },
      "outputs": [
        {
          "output_type": "execute_result",
          "data": {
            "text/plain": [
              "1.0    3944723\n",
              "2.0     763326\n",
              "3.0     188228\n",
              "0.0     114266\n",
              "5.0     110394\n",
              "4.0      76448\n",
              "6.0      72700\n",
              "8.0         18\n",
              "7.0         12\n",
              "9.0          6\n",
              "Name: passenger_count, dtype: int64"
            ]
          },
          "metadata": {},
          "execution_count": 55
        }
      ],
      "source": [
        "df['passenger_count'].value_counts()"
      ]
    },
    {
      "cell_type": "code",
      "execution_count": null,
      "metadata": {
        "colab": {
          "base_uri": "https://localhost:8080/"
        },
        "id": "R-CRfq7hQ0bJ",
        "outputId": "ca26e8ce-8b4b-4872-f1f6-daa5259e2e0b"
      },
      "outputs": [
        {
          "output_type": "execute_result",
          "data": {
            "text/plain": [
              "1    4171093\n",
              "2    1051277\n",
              "0     173241\n",
              "3      24821\n",
              "4      22928\n",
              "5          2\n",
              "Name: payment_type, dtype: int64"
            ]
          },
          "metadata": {},
          "execution_count": 56
        }
      ],
      "source": [
        "df['payment_type'].value_counts()"
      ]
    },
    {
      "cell_type": "code",
      "execution_count": null,
      "metadata": {
        "colab": {
          "base_uri": "https://localhost:8080/"
        },
        "id": "1192FI70Q0bJ",
        "outputId": "9e4020bf-c327-44c2-cd41-9f7148096029"
      },
      "outputs": [
        {
          "output_type": "execute_result",
          "data": {
            "text/plain": [
              "1.0     5063607\n",
              "2.0      143888\n",
              "5.0       27662\n",
              "99.0      19599\n",
              "3.0        8884\n",
              "4.0        6435\n",
              "6.0          46\n",
              "Name: RatecodeID, dtype: int64"
            ]
          },
          "metadata": {},
          "execution_count": 57
        }
      ],
      "source": [
        "df['RatecodeID'].value_counts()"
      ]
    },
    {
      "cell_type": "markdown",
      "metadata": {
        "id": "e2sAtpf9Q0bK"
      },
      "source": [
        "| Nombre campo | Tipo de dato | Tipo | Significado\n",
        "|-----------|-----------|-----------|-----------|\n",
        "|VendorID              | int64      | Categórica | Empresa telefonía\n",
        "|tpep_pickup_datetime  | datetime64 |Fecha/hora | Inicio viaje\n",
        "|tpep_dropoff_datetime | datetime64 | Fecha/hora | Fin viaje\n",
        "|passenger_count       | float64    |Numerica | Cantidad pasajeros\n",
        "|trip_distance         | float64    |Numerica  | Distancia viaje\n",
        "|RatecodeID            | float64    | Categórica | Codigo tarifa\n",
        "|store_and_fwd_flag    | object     | Categórica | Se guardo en memoria \n",
        "|PULocationID          | int64      |Categórica | Id zona comienzo\n",
        "|DOLocationID          | int64      |Categórica | Id zona fin\n",
        "|payment_type          | int64      | Categórica | Forma de pago\n",
        "|fare_amount           | float64    |Numerica | Monto del viaje\n",
        "|extra                 | float64    |Numerica | Extras\n",
        "|mta_tax               | float64    |Numerica | Impuesto MTA\n",
        "|tip_amount            | float64    |Numerica | Propina\n",
        "|tolls_amount          | float64    |Numerica | Monto peajes\n",
        "|improvement_surcharge | float64    |Numerica | Recargo por mejoras\n",
        "|total_amount          | float64    | Numerica| Monto total\n",
        "|congestion_surcharge  | float64    | Numerica | Recargo por congestión\n",
        "|airport_fee           | float64    |Numerica | Tarifa aeropuerto           |"
      ]
    },
    {
      "cell_type": "markdown",
      "metadata": {
        "id": "LMddj7dwQ0bK"
      },
      "source": [
        "### Identificar las variables de entrada y de salida del problema. "
      ]
    },
    {
      "cell_type": "markdown",
      "metadata": {
        "id": "MfGd7OrJQ0bK"
      },
      "source": [
        "### Variables de Entrada\n",
        "\n",
        "| Nombre campo | Tipo de dato | Tipo | Significado\n",
        "|-----------|-----------|-----------|-----------|\n",
        "|tpep_pickup_datetime  | datetime64 |Fecha/hora | Inicio viaje\n",
        "|tpep_dropoff_datetime | datetime64 | Fecha/hora | Fin viaje\n",
        "|passenger_count       | float64    |Numerica | Cantidad pasajeros\n",
        "|trip_distance         | float64    |Numerica  | Distancia viaje\n",
        "|PULocationID          | int64      |Categórica | Id zona comienzo\n",
        "|DOLocationID          | int64      |Categórica | Id zona fin\n",
        "|payment_type          | int64      | Categórica | Forma de pago\n",
        "|fare_amount           | float64    |Numerica | Monto del viaje calculado por el taximetro\n",
        "|tip_amount            | float64    |Numerica | Propina\n",
        "|tolls_amount          | float64    |Numerica | Monto peajes\n",
        "|airport_fee           | float64    |Numerica | Tarifa aeropuerto           |\n",
        "\n"
      ]
    },
    {
      "cell_type": "markdown",
      "metadata": {
        "id": "PEwNv38jQ0bL"
      },
      "source": [
        "### Analisis por tipo de variable"
      ]
    },
    {
      "cell_type": "markdown",
      "metadata": {
        "id": "u3L14yGTQ0bL"
      },
      "source": [
        "### Numericas (distribucion de los datos)"
      ]
    },
    {
      "cell_type": "code",
      "execution_count": null,
      "metadata": {
        "id": "Q7J4I6YLQ0bL"
      },
      "outputs": [],
      "source": [
        "#sns.pairplot(df)"
      ]
    },
    {
      "cell_type": "code",
      "execution_count": null,
      "metadata": {
        "colab": {
          "base_uri": "https://localhost:8080/",
          "height": 524
        },
        "id": "erkN0kj3Q0bL",
        "outputId": "56143f6e-6f38-4867-eb67-dc3cf2687b1f"
      },
      "outputs": [
        {
          "output_type": "execute_result",
          "data": {
            "text/plain": [
              "<seaborn.axisgrid.FacetGrid at 0x7f47985d3580>"
            ]
          },
          "metadata": {},
          "execution_count": 59
        },
        {
          "output_type": "display_data",
          "data": {
            "text/plain": [
              "<Figure size 500x500 with 1 Axes>"
            ],
            "image/png": "[encoded data removed]"
          },
          "metadata": {}
        }
      ],
      "source": [
        "sns.displot(df.passenger_count, kind= 'kde')"
      ]
    },
    {
      "cell_type": "code",
      "source": [
        "sns.displot(df.trip_distance, kind= 'kde')"
      ],
      "metadata": {
        "colab": {
          "base_uri": "https://localhost:8080/",
          "height": 524
        },
        "id": "Crc37AJTdzmk",
        "outputId": "7f638b67-61e2-42b9-a4ee-ea44721f95bb"
      },
      "execution_count": null,
      "outputs": [
        {
          "output_type": "execute_result",
          "data": {
            "text/plain": [
              "<seaborn.axisgrid.FacetGrid at 0x7f479855da30>"
            ]
          },
          "metadata": {},
          "execution_count": 60
        },
        {
          "output_type": "display_data",
          "data": {
            "text/plain": [
              "<Figure size 500x500 with 1 Axes>"
            ],
            "image/png": "[encoded data removed]"
          },
          "metadata": {}
        }
      ]
    },
    {
      "cell_type": "code",
      "source": [
        "def display_dataset_distributions(dataset):\n",
        "    fig = dataset.hist(xlabelsize=8, ylabelsize=8,figsize=(18,10))\n",
        "    [x.title.set_size(14) for x in fig.ravel()]\n",
        "    plt.tight_layout()\n",
        "    plt.show()"
      ],
      "metadata": {
        "id": "Z5J10ePaeFVD"
      },
      "execution_count": null,
      "outputs": []
    },
    {
      "cell_type": "code",
      "source": [
        "display_dataset_distributions(df)"
      ],
      "metadata": {
        "colab": {
          "base_uri": "https://localhost:8080/",
          "height": 1000
        },
        "id": "Xy-ewowMeVN-",
        "outputId": "9816345a-8ad2-4f71-fd11-39e221fd6008"
      },
      "execution_count": null,
      "outputs": [
        {
          "output_type": "display_data",
          "data": {
            "text/plain": [
              "<Figure size 1800x1000 with 16 Axes>"
            ],
            "image/png": "[encoded data removed]"
          },
          "metadata": {}
        }
      ]
    },
    {
      "cell_type": "code",
      "execution_count": null,
      "metadata": {
        "colab": {
          "base_uri": "https://localhost:8080/",
          "height": 640
        },
        "id": "3QyUs6iAQ0bM",
        "outputId": "7122bb7d-1990-4bca-f0da-f0d9f27bf480"
      },
      "outputs": [
        {
          "output_type": "execute_result",
          "data": {
            "text/plain": [
              "<seaborn.axisgrid.JointGrid at 0x7f489d93c370>"
            ]
          },
          "metadata": {},
          "execution_count": 63
        },
        {
          "output_type": "display_data",
          "data": {
            "text/plain": [
              "<Figure size 600x600 with 3 Axes>"
            ],
            "image/png": "[encoded data removed]"
          },
          "metadata": {}
        }
      ],
      "source": [
        "sns.jointplot(x=df.passenger_count, y=df.trip_distance, kind=\"hex\", color=\"#4CB391\")"
      ]
    },
    {
      "cell_type": "code",
      "source": [
        "df.total_amount.median()"
      ],
      "metadata": {
        "colab": {
          "base_uri": "https://localhost:8080/"
        },
        "id": "xacPeOfIh62P",
        "outputId": "ff1b2d3a-cfa6-4138-a2b2-b6fbacaaf710"
      },
      "execution_count": null,
      "outputs": [
        {
          "output_type": "execute_result",
          "data": {
            "text/plain": [
              "14.76"
            ]
          },
          "metadata": {},
          "execution_count": 64
        }
      ]
    },
    {
      "cell_type": "code",
      "source": [
        "df.total_amount.mode()"
      ],
      "metadata": {
        "colab": {
          "base_uri": "https://localhost:8080/"
        },
        "id": "eRfuezthh8rA",
        "outputId": "436dce96-2cdd-45ff-8bf6-96a40960bf53"
      },
      "execution_count": null,
      "outputs": [
        {
          "output_type": "execute_result",
          "data": {
            "text/plain": [
              "0    10.8\n",
              "Name: total_amount, dtype: float64"
            ]
          },
          "metadata": {},
          "execution_count": 65
        }
      ]
    },
    {
      "cell_type": "code",
      "source": [
        "df.total_amount.mean()"
      ],
      "metadata": {
        "colab": {
          "base_uri": "https://localhost:8080/"
        },
        "id": "YqH_7OGohx-l",
        "outputId": "6ad97aa5-8747-4cc5-a172-7deda2ab4287"
      },
      "execution_count": null,
      "outputs": [
        {
          "output_type": "execute_result",
          "data": {
            "text/plain": [
              "19.349111609700067"
            ]
          },
          "metadata": {},
          "execution_count": 66
        }
      ]
    },
    {
      "cell_type": "markdown",
      "source": [
        "### Veamos total_amount cerca de la media"
      ],
      "metadata": {
        "id": "e0tUoOFsh_t0"
      }
    },
    {
      "cell_type": "code",
      "source": [
        "df.total_amount.value_counts()"
      ],
      "metadata": {
        "colab": {
          "base_uri": "https://localhost:8080/"
        },
        "id": "xJu61mByiMDy",
        "outputId": "50d84d37-922b-4d22-b699-fa8b03604657"
      },
      "execution_count": null,
      "outputs": [
        {
          "output_type": "execute_result",
          "data": {
            "text/plain": [
              "10.80     89436\n",
              "10.30     89006\n",
              "11.30     87734\n",
              "9.80      85865\n",
              "11.80     85636\n",
              "          ...  \n",
              "108.82        1\n",
              "74.38         1\n",
              "77.53         1\n",
              "72.76         1\n",
              "76.41         1\n",
              "Name: total_amount, Length: 13441, dtype: int64"
            ]
          },
          "metadata": {},
          "execution_count": 67
        }
      ]
    },
    {
      "cell_type": "code",
      "source": [
        "df[(df.total_amount<0)]"
      ],
      "metadata": {
        "colab": {
          "base_uri": "https://localhost:8080/",
          "height": 423
        },
        "id": "buWeqKpwj9zZ",
        "outputId": "85bba380-55e2-4db1-8c4b-5462cbf888fa"
      },
      "execution_count": null,
      "outputs": [
        {
          "output_type": "execute_result",
          "data": {
            "text/plain": [
              "         VendorID tpep_pickup_datetime tpep_dropoff_datetime  passenger_count  \\\n",
              "154             2  2022-01-01 00:26:37   2022-01-01 00:39:35              1.0   \n",
              "521             2  2022-01-01 00:27:18   2022-01-01 00:40:50              1.0   \n",
              "523             2  2022-01-01 00:59:33   2022-01-01 01:14:09              4.0   \n",
              "580             2  2022-01-01 00:16:58   2022-01-01 00:19:41              1.0   \n",
              "714             2  2022-01-01 00:29:12   2022-01-01 00:40:29              1.0   \n",
              "...           ...                  ...                   ...              ...   \n",
              "5433236         2  2022-02-26 04:23:51   2022-02-26 04:26:37              NaN   \n",
              "5434829         2  2022-02-26 16:22:44   2022-02-26 16:23:56              NaN   \n",
              "5435416         2  2022-02-26 19:31:00   2022-02-26 19:32:00              NaN   \n",
              "5436871         2  2022-02-27 00:01:12   2022-02-27 00:02:58              NaN   \n",
              "5437651         2  2022-02-27 03:19:00   2022-02-27 03:23:00              NaN   \n",
              "\n",
              "         trip_distance  RatecodeID  PULocationID  DOLocationID  payment_type  \\\n",
              "154               7.38         1.0           132           265             4   \n",
              "521               5.14         1.0           152            48             4   \n",
              "523               5.37         5.0            50           265             2   \n",
              "580               0.46         1.0            90           234             2   \n",
              "714               3.13         1.0            13           246             4   \n",
              "...                ...         ...           ...           ...           ...   \n",
              "5433236           0.10         NaN           255           255             0   \n",
              "5434829           0.02         NaN           230           230             0   \n",
              "5435416           0.00         NaN           246           246             0   \n",
              "5436871           0.02         NaN           114           114             0   \n",
              "5437651           0.60         NaN           137           234             0   \n",
              "\n",
              "         fare_amount  tip_amount  tolls_amount  total_amount  airport_fee  \n",
              "154           -21.00        0.00           0.0        -23.55        -1.25  \n",
              "521           -17.00        0.00           0.0        -20.80         0.00  \n",
              "523           -75.00        0.00           0.0        -77.80         0.00  \n",
              "580            -4.00        0.00           0.0         -7.80         0.00  \n",
              "714           -12.00        0.00           0.0        -15.80         0.00  \n",
              "...              ...         ...           ...           ...          ...  \n",
              "5433236       -13.37        0.00           0.0        -12.57          NaN  \n",
              "5434829       -95.79       15.07           0.0        -77.42          NaN  \n",
              "5435416       -31.27        4.41           0.0        -23.56          NaN  \n",
              "5436871       -28.37        0.00           0.0        -25.07          NaN  \n",
              "5437651       -28.92        3.14           0.0        -22.48          NaN  \n",
              "\n",
              "[28563 rows x 14 columns]"
            ],
            "text/html": [
              "\n",
              "  <div id=\"df-4b6119eb-89ac-4c8d-b0e6-6b7bdb00098a\">\n",
              "    <div class=\"colab-df-container\">\n",
              "      <div>\n",
              "<style scoped>\n",
              "    .dataframe tbody tr th:only-of-type {\n",
              "        vertical-align: middle;\n",
              "    }\n",
              "\n",
              "    .dataframe tbody tr th {\n",
              "        vertical-align: top;\n",
              "    }\n",
              "\n",
              "    .dataframe thead th {\n",
              "        text-align: right;\n",
              "    }\n",
              "</style>\n",
              "<table border=\"1\" class=\"dataframe\">\n",
              "  <thead>\n",
              "    <tr style=\"text-align: right;\">\n",
              "      <th></th>\n",
              "      <th>VendorID</th>\n",
              "      <th>tpep_pickup_datetime</th>\n",
              "      <th>tpep_dropoff_datetime</th>\n",
              "      <th>passenger_count</th>\n",
              "      <th>trip_distance</th>\n",
              "      <th>RatecodeID</th>\n",
              "      <th>PULocationID</th>\n",
              "      <th>DOLocationID</th>\n",
              "      <th>payment_type</th>\n",
              "      <th>fare_amount</th>\n",
              "      <th>tip_amount</th>\n",
              "      <th>tolls_amount</th>\n",
              "      <th>total_amount</th>\n",
              "      <th>airport_fee</th>\n",
              "    </tr>\n",
              "  </thead>\n",
              "  <tbody>\n",
              "    <tr>\n",
              "      <th>154</th>\n",
              "      <td>2</td>\n",
              "      <td>2022-01-01 00:26:37</td>\n",
              "      <td>2022-01-01 00:39:35</td>\n",
              "      <td>1.0</td>\n",
              "      <td>7.38</td>\n",
              "      <td>1.0</td>\n",
              "      <td>132</td>\n",
              "      <td>265</td>\n",
              "      <td>4</td>\n",
              "      <td>-21.00</td>\n",
              "      <td>0.00</td>\n",
              "      <td>0.0</td>\n",
              "      <td>-23.55</td>\n",
              "      <td>-1.25</td>\n",
              "    </tr>\n",
              "    <tr>\n",
              "      <th>521</th>\n",
              "      <td>2</td>\n",
              "      <td>2022-01-01 00:27:18</td>\n",
              "      <td>2022-01-01 00:40:50</td>\n",
              "      <td>1.0</td>\n",
              "      <td>5.14</td>\n",
              "      <td>1.0</td>\n",
              "      <td>152</td>\n",
              "      <td>48</td>\n",
              "      <td>4</td>\n",
              "      <td>-17.00</td>\n",
              "      <td>0.00</td>\n",
              "      <td>0.0</td>\n",
              "      <td>-20.80</td>\n",
              "      <td>0.00</td>\n",
              "    </tr>\n",
              "    <tr>\n",
              "      <th>523</th>\n",
              "      <td>2</td>\n",
              "      <td>2022-01-01 00:59:33</td>\n",
              "      <td>2022-01-01 01:14:09</td>\n",
              "      <td>4.0</td>\n",
              "      <td>5.37</td>\n",
              "      <td>5.0</td>\n",
              "      <td>50</td>\n",
              "      <td>265</td>\n",
              "      <td>2</td>\n",
              "      <td>-75.00</td>\n",
              "      <td>0.00</td>\n",
              "      <td>0.0</td>\n",
              "      <td>-77.80</td>\n",
              "      <td>0.00</td>\n",
              "    </tr>\n",
              "    <tr>\n",
              "      <th>580</th>\n",
              "      <td>2</td>\n",
              "      <td>2022-01-01 00:16:58</td>\n",
              "      <td>2022-01-01 00:19:41</td>\n",
              "      <td>1.0</td>\n",
              "      <td>0.46</td>\n",
              "      <td>1.0</td>\n",
              "      <td>90</td>\n",
              "      <td>234</td>\n",
              "      <td>2</td>\n",
              "      <td>-4.00</td>\n",
              "      <td>0.00</td>\n",
              "      <td>0.0</td>\n",
              "      <td>-7.80</td>\n",
              "      <td>0.00</td>\n",
              "    </tr>\n",
              "    <tr>\n",
              "      <th>714</th>\n",
              "      <td>2</td>\n",
              "      <td>2022-01-01 00:29:12</td>\n",
              "      <td>2022-01-01 00:40:29</td>\n",
              "      <td>1.0</td>\n",
              "      <td>3.13</td>\n",
              "      <td>1.0</td>\n",
              "      <td>13</td>\n",
              "      <td>246</td>\n",
              "      <td>4</td>\n",
              "      <td>-12.00</td>\n",
              "      <td>0.00</td>\n",
              "      <td>0.0</td>\n",
              "      <td>-15.80</td>\n",
              "      <td>0.00</td>\n",
              "    </tr>\n",
              "    <tr>\n",
              "      <th>...</th>\n",
              "      <td>...</td>\n",
              "      <td>...</td>\n",
              "      <td>...</td>\n",
              "      <td>...</td>\n",
              "      <td>...</td>\n",
              "      <td>...</td>\n",
              "      <td>...</td>\n",
              "      <td>...</td>\n",
              "      <td>...</td>\n",
              "      <td>...</td>\n",
              "      <td>...</td>\n",
              "      <td>...</td>\n",
              "      <td>...</td>\n",
              "      <td>...</td>\n",
              "    </tr>\n",
              "    <tr>\n",
              "      <th>5433236</th>\n",
              "      <td>2</td>\n",
              "      <td>2022-02-26 04:23:51</td>\n",
              "      <td>2022-02-26 04:26:37</td>\n",
              "      <td>NaN</td>\n",
              "      <td>0.10</td>\n",
              "      <td>NaN</td>\n",
              "      <td>255</td>\n",
              "      <td>255</td>\n",
              "      <td>0</td>\n",
              "      <td>-13.37</td>\n",
              "      <td>0.00</td>\n",
              "      <td>0.0</td>\n",
              "      <td>-12.57</td>\n",
              "      <td>NaN</td>\n",
              "    </tr>\n",
              "    <tr>\n",
              "      <th>5434829</th>\n",
              "      <td>2</td>\n",
              "      <td>2022-02-26 16:22:44</td>\n",
              "      <td>2022-02-26 16:23:56</td>\n",
              "      <td>NaN</td>\n",
              "      <td>0.02</td>\n",
              "      <td>NaN</td>\n",
              "      <td>230</td>\n",
              "      <td>230</td>\n",
              "      <td>0</td>\n",
              "      <td>-95.79</td>\n",
              "      <td>15.07</td>\n",
              "      <td>0.0</td>\n",
              "      <td>-77.42</td>\n",
              "      <td>NaN</td>\n",
              "    </tr>\n",
              "    <tr>\n",
              "      <th>5435416</th>\n",
              "      <td>2</td>\n",
              "      <td>2022-02-26 19:31:00</td>\n",
              "      <td>2022-02-26 19:32:00</td>\n",
              "      <td>NaN</td>\n",
              "      <td>0.00</td>\n",
              "      <td>NaN</td>\n",
              "      <td>246</td>\n",
              "      <td>246</td>\n",
              "      <td>0</td>\n",
              "      <td>-31.27</td>\n",
              "      <td>4.41</td>\n",
              "      <td>0.0</td>\n",
              "      <td>-23.56</td>\n",
              "      <td>NaN</td>\n",
              "    </tr>\n",
              "    <tr>\n",
              "      <th>5436871</th>\n",
              "      <td>2</td>\n",
              "      <td>2022-02-27 00:01:12</td>\n",
              "      <td>2022-02-27 00:02:58</td>\n",
              "      <td>NaN</td>\n",
              "      <td>0.02</td>\n",
              "      <td>NaN</td>\n",
              "      <td>114</td>\n",
              "      <td>114</td>\n",
              "      <td>0</td>\n",
              "      <td>-28.37</td>\n",
              "      <td>0.00</td>\n",
              "      <td>0.0</td>\n",
              "      <td>-25.07</td>\n",
              "      <td>NaN</td>\n",
              "    </tr>\n",
              "    <tr>\n",
              "      <th>5437651</th>\n",
              "      <td>2</td>\n",
              "      <td>2022-02-27 03:19:00</td>\n",
              "      <td>2022-02-27 03:23:00</td>\n",
              "      <td>NaN</td>\n",
              "      <td>0.60</td>\n",
              "      <td>NaN</td>\n",
              "      <td>137</td>\n",
              "      <td>234</td>\n",
              "      <td>0</td>\n",
              "      <td>-28.92</td>\n",
              "      <td>3.14</td>\n",
              "      <td>0.0</td>\n",
              "      <td>-22.48</td>\n",
              "      <td>NaN</td>\n",
              "    </tr>\n",
              "  </tbody>\n",
              "</table>\n",
              "<p>28563 rows × 14 columns</p>\n",
              "</div>\n",
              "      <button class=\"colab-df-convert\" onclick=\"convertToInteractive('df-4b6119eb-89ac-4c8d-b0e6-6b7bdb00098a')\"\n",
              "              title=\"Convert this dataframe to an interactive table.\"\n",
              "              style=\"display:none;\">\n",
              "        \n",
              "  <svg xmlns=\"http://www.w3.org/2000/svg\" height=\"24px\"viewBox=\"0 0 24 24\"\n",
              "       width=\"24px\">\n",
              "    <path d=\"M0 0h24v24H0V0z\" fill=\"none\"/>\n",
              "    <path d=\"M18.56 5.44l.94 2.06.94-2.06 2.06-.94-2.06-.94-.94-2.06-.94 2.06-2.06.94zm-11 1L8.5 8.5l.94-2.06 2.06-.94-2.06-.94L8.5 2.5l-.94 2.06-2.06.94zm10 10l.94 2.06.94-2.06 2.06-.94-2.06-.94-.94-2.06-.94 2.06-2.06.94z\"/><path d=\"M17.41 7.96l-1.37-1.37c-.4-.4-.92-.59-1.43-.59-.52 0-1.04.2-1.43.59L10.3 9.45l-7.72 7.72c-.78.78-.78 2.05 0 2.83L4 21.41c.39.39.9.59 1.41.59.51 0 1.02-.2 1.41-.59l7.78-7.78 2.81-2.81c.8-.78.8-2.07 0-2.86zM5.41 20L4 18.59l7.72-7.72 1.47 1.35L5.41 20z\"/>\n",
              "  </svg>\n",
              "      </button>\n",
              "      \n",
              "  <style>\n",
              "    .colab-df-container {\n",
              "      display:flex;\n",
              "      flex-wrap:wrap;\n",
              "      gap: 12px;\n",
              "    }\n",
              "\n",
              "    .colab-df-convert {\n",
              "      background-color: #E8F0FE;\n",
              "      border: none;\n",
              "      border-radius: 50%;\n",
              "      cursor: pointer;\n",
              "      display: none;\n",
              "      fill: #1967D2;\n",
              "      height: 32px;\n",
              "      padding: 0 0 0 0;\n",
              "      width: 32px;\n",
              "    }\n",
              "\n",
              "    .colab-df-convert:hover {\n",
              "      background-color: #E2EBFA;\n",
              "      box-shadow: 0px 1px 2px rgba(60, 64, 67, 0.3), 0px 1px 3px 1px rgba(60, 64, 67, 0.15);\n",
              "      fill: #174EA6;\n",
              "    }\n",
              "\n",
              "    [theme=dark] .colab-df-convert {\n",
              "      background-color: #3B4455;\n",
              "      fill: #D2E3FC;\n",
              "    }\n",
              "\n",
              "    [theme=dark] .colab-df-convert:hover {\n",
              "      background-color: #434B5C;\n",
              "      box-shadow: 0px 1px 3px 1px rgba(0, 0, 0, 0.15);\n",
              "      filter: drop-shadow(0px 1px 2px rgba(0, 0, 0, 0.3));\n",
              "      fill: #FFFFFF;\n",
              "    }\n",
              "  </style>\n",
              "\n",
              "      <script>\n",
              "        const buttonEl =\n",
              "          document.querySelector('#df-4b6119eb-89ac-4c8d-b0e6-6b7bdb00098a button.colab-df-convert');\n",
              "        buttonEl.style.display =\n",
              "          google.colab.kernel.accessAllowed ? 'block' : 'none';\n",
              "\n",
              "        async function convertToInteractive(key) {\n",
              "          const element = document.querySelector('#df-4b6119eb-89ac-4c8d-b0e6-6b7bdb00098a');\n",
              "          const dataTable =\n",
              "            await google.colab.kernel.invokeFunction('convertToInteractive',\n",
              "                                                     [key], {});\n",
              "          if (!dataTable) return;\n",
              "\n",
              "          const docLinkHtml = 'Like what you see? Visit the ' +\n",
              "            '<a target=\"_blank\" href=https://colab.research.google.com/notebooks/data_table.ipynb>data table notebook</a>'\n",
              "            + ' to learn more about interactive tables.';\n",
              "          element.innerHTML = '';\n",
              "          dataTable['output_type'] = 'display_data';\n",
              "          await google.colab.output.renderOutput(dataTable, element);\n",
              "          const docLink = document.createElement('div');\n",
              "          docLink.innerHTML = docLinkHtml;\n",
              "          element.appendChild(docLink);\n",
              "        }\n",
              "      </script>\n",
              "    </div>\n",
              "  </div>\n",
              "  "
            ]
          },
          "metadata": {},
          "execution_count": 68
        }
      ]
    },
    {
      "cell_type": "code",
      "source": [
        "df[(df.total_amount>100)]"
      ],
      "metadata": {
        "colab": {
          "base_uri": "https://localhost:8080/",
          "height": 423
        },
        "id": "tXF7_2qp3cQ8",
        "outputId": "d5bc6423-78c3-4337-c170-3677f35deb1a"
      },
      "execution_count": null,
      "outputs": [
        {
          "output_type": "execute_result",
          "data": {
            "text/plain": [
              "         VendorID tpep_pickup_datetime tpep_dropoff_datetime  passenger_count  \\\n",
              "370             2  2022-01-01 00:38:48   2022-01-01 00:39:01              1.0   \n",
              "799             2  2022-01-01 00:35:56   2022-01-01 00:36:12              1.0   \n",
              "1114            1  2022-01-01 00:57:40   2022-01-01 01:19:49              1.0   \n",
              "1404            2  2022-01-01 00:32:59   2022-01-01 01:05:34              1.0   \n",
              "1451            2  2022-01-01 00:32:38   2022-01-01 01:10:42              1.0   \n",
              "...           ...                  ...                   ...              ...   \n",
              "5439758         2  2022-02-27 18:10:00   2022-02-27 18:58:00              NaN   \n",
              "5439809         2  2022-02-27 18:26:10   2022-02-27 19:17:38              NaN   \n",
              "5441239         2  2022-02-28 08:13:37   2022-02-28 08:46:47              NaN   \n",
              "5442318         2  2022-02-28 16:26:56   2022-02-28 17:14:56              NaN   \n",
              "5442501         2  2022-02-28 17:23:20   2022-02-28 18:06:55              NaN   \n",
              "\n",
              "         trip_distance  RatecodeID  PULocationID  DOLocationID  payment_type  \\\n",
              "370               0.00         5.0           142           142             1   \n",
              "799               0.00         5.0            79            79             1   \n",
              "1114             11.30         5.0           239           265             1   \n",
              "1404             27.85         4.0           132           265             1   \n",
              "1451             16.99         5.0            48           265             1   \n",
              "...                ...         ...           ...           ...           ...   \n",
              "5439758          24.61         NaN           230           265             0   \n",
              "5439809          13.68         NaN            40           132             0   \n",
              "5441239          17.18         NaN           142             1             0   \n",
              "5442318          17.89         NaN           161             1             0   \n",
              "5442501          17.79         NaN           143             1             0   \n",
              "\n",
              "         fare_amount  tip_amount  tolls_amount  total_amount  airport_fee  \n",
              "370           150.00        0.00          0.00        152.80         0.00  \n",
              "799           240.00       40.00          0.00        282.80         0.00  \n",
              "1114           80.00       40.00          0.00        120.30         0.00  \n",
              "1404          124.50       25.16          0.00        152.21         1.25  \n",
              "1451          100.00       10.00         11.75        124.55         0.00  \n",
              "...              ...         ...           ...           ...          ...  \n",
              "5439758        90.04       22.95         20.25        136.54          NaN  \n",
              "5439809        80.45       19.29          0.00        100.54          NaN  \n",
              "5441239        68.42       16.25         13.75        101.72          NaN  \n",
              "5442318        67.28       17.79         18.75        107.12          NaN  \n",
              "5442501        69.47        9.14         23.75        102.66          NaN  \n",
              "\n",
              "[10323 rows x 14 columns]"
            ],
            "text/html": [
              "\n",
              "  <div id=\"df-5432c675-45f2-41a0-bc06-ce284c34b8c1\">\n",
              "    <div class=\"colab-df-container\">\n",
              "      <div>\n",
              "<style scoped>\n",
              "    .dataframe tbody tr th:only-of-type {\n",
              "        vertical-align: middle;\n",
              "    }\n",
              "\n",
              "    .dataframe tbody tr th {\n",
              "        vertical-align: top;\n",
              "    }\n",
              "\n",
              "    .dataframe thead th {\n",
              "        text-align: right;\n",
              "    }\n",
              "</style>\n",
              "<table border=\"1\" class=\"dataframe\">\n",
              "  <thead>\n",
              "    <tr style=\"text-align: right;\">\n",
              "      <th></th>\n",
              "      <th>VendorID</th>\n",
              "      <th>tpep_pickup_datetime</th>\n",
              "      <th>tpep_dropoff_datetime</th>\n",
              "      <th>passenger_count</th>\n",
              "      <th>trip_distance</th>\n",
              "      <th>RatecodeID</th>\n",
              "      <th>PULocationID</th>\n",
              "      <th>DOLocationID</th>\n",
              "      <th>payment_type</th>\n",
              "      <th>fare_amount</th>\n",
              "      <th>tip_amount</th>\n",
              "      <th>tolls_amount</th>\n",
              "      <th>total_amount</th>\n",
              "      <th>airport_fee</th>\n",
              "    </tr>\n",
              "  </thead>\n",
              "  <tbody>\n",
              "    <tr>\n",
              "      <th>370</th>\n",
              "      <td>2</td>\n",
              "      <td>2022-01-01 00:38:48</td>\n",
              "      <td>2022-01-01 00:39:01</td>\n",
              "      <td>1.0</td>\n",
              "      <td>0.00</td>\n",
              "      <td>5.0</td>\n",
              "      <td>142</td>\n",
              "      <td>142</td>\n",
              "      <td>1</td>\n",
              "      <td>150.00</td>\n",
              "      <td>0.00</td>\n",
              "      <td>0.00</td>\n",
              "      <td>152.80</td>\n",
              "      <td>0.00</td>\n",
              "    </tr>\n",
              "    <tr>\n",
              "      <th>799</th>\n",
              "      <td>2</td>\n",
              "      <td>2022-01-01 00:35:56</td>\n",
              "      <td>2022-01-01 00:36:12</td>\n",
              "      <td>1.0</td>\n",
              "      <td>0.00</td>\n",
              "      <td>5.0</td>\n",
              "      <td>79</td>\n",
              "      <td>79</td>\n",
              "      <td>1</td>\n",
              "      <td>240.00</td>\n",
              "      <td>40.00</td>\n",
              "      <td>0.00</td>\n",
              "      <td>282.80</td>\n",
              "      <td>0.00</td>\n",
              "    </tr>\n",
              "    <tr>\n",
              "      <th>1114</th>\n",
              "      <td>1</td>\n",
              "      <td>2022-01-01 00:57:40</td>\n",
              "      <td>2022-01-01 01:19:49</td>\n",
              "      <td>1.0</td>\n",
              "      <td>11.30</td>\n",
              "      <td>5.0</td>\n",
              "      <td>239</td>\n",
              "      <td>265</td>\n",
              "      <td>1</td>\n",
              "      <td>80.00</td>\n",
              "      <td>40.00</td>\n",
              "      <td>0.00</td>\n",
              "      <td>120.30</td>\n",
              "      <td>0.00</td>\n",
              "    </tr>\n",
              "    <tr>\n",
              "      <th>1404</th>\n",
              "      <td>2</td>\n",
              "      <td>2022-01-01 00:32:59</td>\n",
              "      <td>2022-01-01 01:05:34</td>\n",
              "      <td>1.0</td>\n",
              "      <td>27.85</td>\n",
              "      <td>4.0</td>\n",
              "      <td>132</td>\n",
              "      <td>265</td>\n",
              "      <td>1</td>\n",
              "      <td>124.50</td>\n",
              "      <td>25.16</td>\n",
              "      <td>0.00</td>\n",
              "      <td>152.21</td>\n",
              "      <td>1.25</td>\n",
              "    </tr>\n",
              "    <tr>\n",
              "      <th>1451</th>\n",
              "      <td>2</td>\n",
              "      <td>2022-01-01 00:32:38</td>\n",
              "      <td>2022-01-01 01:10:42</td>\n",
              "      <td>1.0</td>\n",
              "      <td>16.99</td>\n",
              "      <td>5.0</td>\n",
              "      <td>48</td>\n",
              "      <td>265</td>\n",
              "      <td>1</td>\n",
              "      <td>100.00</td>\n",
              "      <td>10.00</td>\n",
              "      <td>11.75</td>\n",
              "      <td>124.55</td>\n",
              "      <td>0.00</td>\n",
              "    </tr>\n",
              "    <tr>\n",
              "      <th>...</th>\n",
              "      <td>...</td>\n",
              "      <td>...</td>\n",
              "      <td>...</td>\n",
              "      <td>...</td>\n",
              "      <td>...</td>\n",
              "      <td>...</td>\n",
              "      <td>...</td>\n",
              "      <td>...</td>\n",
              "      <td>...</td>\n",
              "      <td>...</td>\n",
              "      <td>...</td>\n",
              "      <td>...</td>\n",
              "      <td>...</td>\n",
              "      <td>...</td>\n",
              "    </tr>\n",
              "    <tr>\n",
              "      <th>5439758</th>\n",
              "      <td>2</td>\n",
              "      <td>2022-02-27 18:10:00</td>\n",
              "      <td>2022-02-27 18:58:00</td>\n",
              "      <td>NaN</td>\n",
              "      <td>24.61</td>\n",
              "      <td>NaN</td>\n",
              "      <td>230</td>\n",
              "      <td>265</td>\n",
              "      <td>0</td>\n",
              "      <td>90.04</td>\n",
              "      <td>22.95</td>\n",
              "      <td>20.25</td>\n",
              "      <td>136.54</td>\n",
              "      <td>NaN</td>\n",
              "    </tr>\n",
              "    <tr>\n",
              "      <th>5439809</th>\n",
              "      <td>2</td>\n",
              "      <td>2022-02-27 18:26:10</td>\n",
              "      <td>2022-02-27 19:17:38</td>\n",
              "      <td>NaN</td>\n",
              "      <td>13.68</td>\n",
              "      <td>NaN</td>\n",
              "      <td>40</td>\n",
              "      <td>132</td>\n",
              "      <td>0</td>\n",
              "      <td>80.45</td>\n",
              "      <td>19.29</td>\n",
              "      <td>0.00</td>\n",
              "      <td>100.54</td>\n",
              "      <td>NaN</td>\n",
              "    </tr>\n",
              "    <tr>\n",
              "      <th>5441239</th>\n",
              "      <td>2</td>\n",
              "      <td>2022-02-28 08:13:37</td>\n",
              "      <td>2022-02-28 08:46:47</td>\n",
              "      <td>NaN</td>\n",
              "      <td>17.18</td>\n",
              "      <td>NaN</td>\n",
              "      <td>142</td>\n",
              "      <td>1</td>\n",
              "      <td>0</td>\n",
              "      <td>68.42</td>\n",
              "      <td>16.25</td>\n",
              "      <td>13.75</td>\n",
              "      <td>101.72</td>\n",
              "      <td>NaN</td>\n",
              "    </tr>\n",
              "    <tr>\n",
              "      <th>5442318</th>\n",
              "      <td>2</td>\n",
              "      <td>2022-02-28 16:26:56</td>\n",
              "      <td>2022-02-28 17:14:56</td>\n",
              "      <td>NaN</td>\n",
              "      <td>17.89</td>\n",
              "      <td>NaN</td>\n",
              "      <td>161</td>\n",
              "      <td>1</td>\n",
              "      <td>0</td>\n",
              "      <td>67.28</td>\n",
              "      <td>17.79</td>\n",
              "      <td>18.75</td>\n",
              "      <td>107.12</td>\n",
              "      <td>NaN</td>\n",
              "    </tr>\n",
              "    <tr>\n",
              "      <th>5442501</th>\n",
              "      <td>2</td>\n",
              "      <td>2022-02-28 17:23:20</td>\n",
              "      <td>2022-02-28 18:06:55</td>\n",
              "      <td>NaN</td>\n",
              "      <td>17.79</td>\n",
              "      <td>NaN</td>\n",
              "      <td>143</td>\n",
              "      <td>1</td>\n",
              "      <td>0</td>\n",
              "      <td>69.47</td>\n",
              "      <td>9.14</td>\n",
              "      <td>23.75</td>\n",
              "      <td>102.66</td>\n",
              "      <td>NaN</td>\n",
              "    </tr>\n",
              "  </tbody>\n",
              "</table>\n",
              "<p>10323 rows × 14 columns</p>\n",
              "</div>\n",
              "      <button class=\"colab-df-convert\" onclick=\"convertToInteractive('df-5432c675-45f2-41a0-bc06-ce284c34b8c1')\"\n",
              "              title=\"Convert this dataframe to an interactive table.\"\n",
              "              style=\"display:none;\">\n",
              "        \n",
              "  <svg xmlns=\"http://www.w3.org/2000/svg\" height=\"24px\"viewBox=\"0 0 24 24\"\n",
              "       width=\"24px\">\n",
              "    <path d=\"M0 0h24v24H0V0z\" fill=\"none\"/>\n",
              "    <path d=\"M18.56 5.44l.94 2.06.94-2.06 2.06-.94-2.06-.94-.94-2.06-.94 2.06-2.06.94zm-11 1L8.5 8.5l.94-2.06 2.06-.94-2.06-.94L8.5 2.5l-.94 2.06-2.06.94zm10 10l.94 2.06.94-2.06 2.06-.94-2.06-.94-.94-2.06-.94 2.06-2.06.94z\"/><path d=\"M17.41 7.96l-1.37-1.37c-.4-.4-.92-.59-1.43-.59-.52 0-1.04.2-1.43.59L10.3 9.45l-7.72 7.72c-.78.78-.78 2.05 0 2.83L4 21.41c.39.39.9.59 1.41.59.51 0 1.02-.2 1.41-.59l7.78-7.78 2.81-2.81c.8-.78.8-2.07 0-2.86zM5.41 20L4 18.59l7.72-7.72 1.47 1.35L5.41 20z\"/>\n",
              "  </svg>\n",
              "      </button>\n",
              "      \n",
              "  <style>\n",
              "    .colab-df-container {\n",
              "      display:flex;\n",
              "      flex-wrap:wrap;\n",
              "      gap: 12px;\n",
              "    }\n",
              "\n",
              "    .colab-df-convert {\n",
              "      background-color: #E8F0FE;\n",
              "      border: none;\n",
              "      border-radius: 50%;\n",
              "      cursor: pointer;\n",
              "      display: none;\n",
              "      fill: #1967D2;\n",
              "      height: 32px;\n",
              "      padding: 0 0 0 0;\n",
              "      width: 32px;\n",
              "    }\n",
              "\n",
              "    .colab-df-convert:hover {\n",
              "      background-color: #E2EBFA;\n",
              "      box-shadow: 0px 1px 2px rgba(60, 64, 67, 0.3), 0px 1px 3px 1px rgba(60, 64, 67, 0.15);\n",
              "      fill: #174EA6;\n",
              "    }\n",
              "\n",
              "    [theme=dark] .colab-df-convert {\n",
              "      background-color: #3B4455;\n",
              "      fill: #D2E3FC;\n",
              "    }\n",
              "\n",
              "    [theme=dark] .colab-df-convert:hover {\n",
              "      background-color: #434B5C;\n",
              "      box-shadow: 0px 1px 3px 1px rgba(0, 0, 0, 0.15);\n",
              "      filter: drop-shadow(0px 1px 2px rgba(0, 0, 0, 0.3));\n",
              "      fill: #FFFFFF;\n",
              "    }\n",
              "  </style>\n",
              "\n",
              "      <script>\n",
              "        const buttonEl =\n",
              "          document.querySelector('#df-5432c675-45f2-41a0-bc06-ce284c34b8c1 button.colab-df-convert');\n",
              "        buttonEl.style.display =\n",
              "          google.colab.kernel.accessAllowed ? 'block' : 'none';\n",
              "\n",
              "        async function convertToInteractive(key) {\n",
              "          const element = document.querySelector('#df-5432c675-45f2-41a0-bc06-ce284c34b8c1');\n",
              "          const dataTable =\n",
              "            await google.colab.kernel.invokeFunction('convertToInteractive',\n",
              "                                                     [key], {});\n",
              "          if (!dataTable) return;\n",
              "\n",
              "          const docLinkHtml = 'Like what you see? Visit the ' +\n",
              "            '<a target=\"_blank\" href=https://colab.research.google.com/notebooks/data_table.ipynb>data table notebook</a>'\n",
              "            + ' to learn more about interactive tables.';\n",
              "          element.innerHTML = '';\n",
              "          dataTable['output_type'] = 'display_data';\n",
              "          await google.colab.output.renderOutput(dataTable, element);\n",
              "          const docLink = document.createElement('div');\n",
              "          docLink.innerHTML = docLinkHtml;\n",
              "          element.appendChild(docLink);\n",
              "        }\n",
              "      </script>\n",
              "    </div>\n",
              "  </div>\n",
              "  "
            ]
          },
          "metadata": {},
          "execution_count": 69
        }
      ]
    },
    {
      "cell_type": "code",
      "source": [
        "df[df.total_amount<0]"
      ],
      "metadata": {
        "colab": {
          "base_uri": "https://localhost:8080/",
          "height": 423
        },
        "id": "gP9jqLXA3E0L",
        "outputId": "31c3fb82-1093-4351-ed4e-48529747c358"
      },
      "execution_count": null,
      "outputs": [
        {
          "output_type": "execute_result",
          "data": {
            "text/plain": [
              "         VendorID tpep_pickup_datetime tpep_dropoff_datetime  passenger_count  \\\n",
              "154             2  2022-01-01 00:26:37   2022-01-01 00:39:35              1.0   \n",
              "521             2  2022-01-01 00:27:18   2022-01-01 00:40:50              1.0   \n",
              "523             2  2022-01-01 00:59:33   2022-01-01 01:14:09              4.0   \n",
              "580             2  2022-01-01 00:16:58   2022-01-01 00:19:41              1.0   \n",
              "714             2  2022-01-01 00:29:12   2022-01-01 00:40:29              1.0   \n",
              "...           ...                  ...                   ...              ...   \n",
              "5433236         2  2022-02-26 04:23:51   2022-02-26 04:26:37              NaN   \n",
              "5434829         2  2022-02-26 16:22:44   2022-02-26 16:23:56              NaN   \n",
              "5435416         2  2022-02-26 19:31:00   2022-02-26 19:32:00              NaN   \n",
              "5436871         2  2022-02-27 00:01:12   2022-02-27 00:02:58              NaN   \n",
              "5437651         2  2022-02-27 03:19:00   2022-02-27 03:23:00              NaN   \n",
              "\n",
              "         trip_distance  RatecodeID  PULocationID  DOLocationID  payment_type  \\\n",
              "154               7.38         1.0           132           265             4   \n",
              "521               5.14         1.0           152            48             4   \n",
              "523               5.37         5.0            50           265             2   \n",
              "580               0.46         1.0            90           234             2   \n",
              "714               3.13         1.0            13           246             4   \n",
              "...                ...         ...           ...           ...           ...   \n",
              "5433236           0.10         NaN           255           255             0   \n",
              "5434829           0.02         NaN           230           230             0   \n",
              "5435416           0.00         NaN           246           246             0   \n",
              "5436871           0.02         NaN           114           114             0   \n",
              "5437651           0.60         NaN           137           234             0   \n",
              "\n",
              "         fare_amount  tip_amount  tolls_amount  total_amount  airport_fee  \n",
              "154           -21.00        0.00           0.0        -23.55        -1.25  \n",
              "521           -17.00        0.00           0.0        -20.80         0.00  \n",
              "523           -75.00        0.00           0.0        -77.80         0.00  \n",
              "580            -4.00        0.00           0.0         -7.80         0.00  \n",
              "714           -12.00        0.00           0.0        -15.80         0.00  \n",
              "...              ...         ...           ...           ...          ...  \n",
              "5433236       -13.37        0.00           0.0        -12.57          NaN  \n",
              "5434829       -95.79       15.07           0.0        -77.42          NaN  \n",
              "5435416       -31.27        4.41           0.0        -23.56          NaN  \n",
              "5436871       -28.37        0.00           0.0        -25.07          NaN  \n",
              "5437651       -28.92        3.14           0.0        -22.48          NaN  \n",
              "\n",
              "[28563 rows x 14 columns]"
            ],
            "text/html": [
              "\n",
              "  <div id=\"df-82cfff5f-e1d3-40d5-ba38-1a3e0a4e186e\">\n",
              "    <div class=\"colab-df-container\">\n",
              "      <div>\n",
              "<style scoped>\n",
              "    .dataframe tbody tr th:only-of-type {\n",
              "        vertical-align: middle;\n",
              "    }\n",
              "\n",
              "    .dataframe tbody tr th {\n",
              "        vertical-align: top;\n",
              "    }\n",
              "\n",
              "    .dataframe thead th {\n",
              "        text-align: right;\n",
              "    }\n",
              "</style>\n",
              "<table border=\"1\" class=\"dataframe\">\n",
              "  <thead>\n",
              "    <tr style=\"text-align: right;\">\n",
              "      <th></th>\n",
              "      <th>VendorID</th>\n",
              "      <th>tpep_pickup_datetime</th>\n",
              "      <th>tpep_dropoff_datetime</th>\n",
              "      <th>passenger_count</th>\n",
              "      <th>trip_distance</th>\n",
              "      <th>RatecodeID</th>\n",
              "      <th>PULocationID</th>\n",
              "      <th>DOLocationID</th>\n",
              "      <th>payment_type</th>\n",
              "      <th>fare_amount</th>\n",
              "      <th>tip_amount</th>\n",
              "      <th>tolls_amount</th>\n",
              "      <th>total_amount</th>\n",
              "      <th>airport_fee</th>\n",
              "    </tr>\n",
              "  </thead>\n",
              "  <tbody>\n",
              "    <tr>\n",
              "      <th>154</th>\n",
              "      <td>2</td>\n",
              "      <td>2022-01-01 00:26:37</td>\n",
              "      <td>2022-01-01 00:39:35</td>\n",
              "      <td>1.0</td>\n",
              "      <td>7.38</td>\n",
              "      <td>1.0</td>\n",
              "      <td>132</td>\n",
              "      <td>265</td>\n",
              "      <td>4</td>\n",
              "      <td>-21.00</td>\n",
              "      <td>0.00</td>\n",
              "      <td>0.0</td>\n",
              "      <td>-23.55</td>\n",
              "      <td>-1.25</td>\n",
              "    </tr>\n",
              "    <tr>\n",
              "      <th>521</th>\n",
              "      <td>2</td>\n",
              "      <td>2022-01-01 00:27:18</td>\n",
              "      <td>2022-01-01 00:40:50</td>\n",
              "      <td>1.0</td>\n",
              "      <td>5.14</td>\n",
              "      <td>1.0</td>\n",
              "      <td>152</td>\n",
              "      <td>48</td>\n",
              "      <td>4</td>\n",
              "      <td>-17.00</td>\n",
              "      <td>0.00</td>\n",
              "      <td>0.0</td>\n",
              "      <td>-20.80</td>\n",
              "      <td>0.00</td>\n",
              "    </tr>\n",
              "    <tr>\n",
              "      <th>523</th>\n",
              "      <td>2</td>\n",
              "      <td>2022-01-01 00:59:33</td>\n",
              "      <td>2022-01-01 01:14:09</td>\n",
              "      <td>4.0</td>\n",
              "      <td>5.37</td>\n",
              "      <td>5.0</td>\n",
              "      <td>50</td>\n",
              "      <td>265</td>\n",
              "      <td>2</td>\n",
              "      <td>-75.00</td>\n",
              "      <td>0.00</td>\n",
              "      <td>0.0</td>\n",
              "      <td>-77.80</td>\n",
              "      <td>0.00</td>\n",
              "    </tr>\n",
              "    <tr>\n",
              "      <th>580</th>\n",
              "      <td>2</td>\n",
              "      <td>2022-01-01 00:16:58</td>\n",
              "      <td>2022-01-01 00:19:41</td>\n",
              "      <td>1.0</td>\n",
              "      <td>0.46</td>\n",
              "      <td>1.0</td>\n",
              "      <td>90</td>\n",
              "      <td>234</td>\n",
              "      <td>2</td>\n",
              "      <td>-4.00</td>\n",
              "      <td>0.00</td>\n",
              "      <td>0.0</td>\n",
              "      <td>-7.80</td>\n",
              "      <td>0.00</td>\n",
              "    </tr>\n",
              "    <tr>\n",
              "      <th>714</th>\n",
              "      <td>2</td>\n",
              "      <td>2022-01-01 00:29:12</td>\n",
              "      <td>2022-01-01 00:40:29</td>\n",
              "      <td>1.0</td>\n",
              "      <td>3.13</td>\n",
              "      <td>1.0</td>\n",
              "      <td>13</td>\n",
              "      <td>246</td>\n",
              "      <td>4</td>\n",
              "      <td>-12.00</td>\n",
              "      <td>0.00</td>\n",
              "      <td>0.0</td>\n",
              "      <td>-15.80</td>\n",
              "      <td>0.00</td>\n",
              "    </tr>\n",
              "    <tr>\n",
              "      <th>...</th>\n",
              "      <td>...</td>\n",
              "      <td>...</td>\n",
              "      <td>...</td>\n",
              "      <td>...</td>\n",
              "      <td>...</td>\n",
              "      <td>...</td>\n",
              "      <td>...</td>\n",
              "      <td>...</td>\n",
              "      <td>...</td>\n",
              "      <td>...</td>\n",
              "      <td>...</td>\n",
              "      <td>...</td>\n",
              "      <td>...</td>\n",
              "      <td>...</td>\n",
              "    </tr>\n",
              "    <tr>\n",
              "      <th>5433236</th>\n",
              "      <td>2</td>\n",
              "      <td>2022-02-26 04:23:51</td>\n",
              "      <td>2022-02-26 04:26:37</td>\n",
              "      <td>NaN</td>\n",
              "      <td>0.10</td>\n",
              "      <td>NaN</td>\n",
              "      <td>255</td>\n",
              "      <td>255</td>\n",
              "      <td>0</td>\n",
              "      <td>-13.37</td>\n",
              "      <td>0.00</td>\n",
              "      <td>0.0</td>\n",
              "      <td>-12.57</td>\n",
              "      <td>NaN</td>\n",
              "    </tr>\n",
              "    <tr>\n",
              "      <th>5434829</th>\n",
              "      <td>2</td>\n",
              "      <td>2022-02-26 16:22:44</td>\n",
              "      <td>2022-02-26 16:23:56</td>\n",
              "      <td>NaN</td>\n",
              "      <td>0.02</td>\n",
              "      <td>NaN</td>\n",
              "      <td>230</td>\n",
              "      <td>230</td>\n",
              "      <td>0</td>\n",
              "      <td>-95.79</td>\n",
              "      <td>15.07</td>\n",
              "      <td>0.0</td>\n",
              "      <td>-77.42</td>\n",
              "      <td>NaN</td>\n",
              "    </tr>\n",
              "    <tr>\n",
              "      <th>5435416</th>\n",
              "      <td>2</td>\n",
              "      <td>2022-02-26 19:31:00</td>\n",
              "      <td>2022-02-26 19:32:00</td>\n",
              "      <td>NaN</td>\n",
              "      <td>0.00</td>\n",
              "      <td>NaN</td>\n",
              "      <td>246</td>\n",
              "      <td>246</td>\n",
              "      <td>0</td>\n",
              "      <td>-31.27</td>\n",
              "      <td>4.41</td>\n",
              "      <td>0.0</td>\n",
              "      <td>-23.56</td>\n",
              "      <td>NaN</td>\n",
              "    </tr>\n",
              "    <tr>\n",
              "      <th>5436871</th>\n",
              "      <td>2</td>\n",
              "      <td>2022-02-27 00:01:12</td>\n",
              "      <td>2022-02-27 00:02:58</td>\n",
              "      <td>NaN</td>\n",
              "      <td>0.02</td>\n",
              "      <td>NaN</td>\n",
              "      <td>114</td>\n",
              "      <td>114</td>\n",
              "      <td>0</td>\n",
              "      <td>-28.37</td>\n",
              "      <td>0.00</td>\n",
              "      <td>0.0</td>\n",
              "      <td>-25.07</td>\n",
              "      <td>NaN</td>\n",
              "    </tr>\n",
              "    <tr>\n",
              "      <th>5437651</th>\n",
              "      <td>2</td>\n",
              "      <td>2022-02-27 03:19:00</td>\n",
              "      <td>2022-02-27 03:23:00</td>\n",
              "      <td>NaN</td>\n",
              "      <td>0.60</td>\n",
              "      <td>NaN</td>\n",
              "      <td>137</td>\n",
              "      <td>234</td>\n",
              "      <td>0</td>\n",
              "      <td>-28.92</td>\n",
              "      <td>3.14</td>\n",
              "      <td>0.0</td>\n",
              "      <td>-22.48</td>\n",
              "      <td>NaN</td>\n",
              "    </tr>\n",
              "  </tbody>\n",
              "</table>\n",
              "<p>28563 rows × 14 columns</p>\n",
              "</div>\n",
              "      <button class=\"colab-df-convert\" onclick=\"convertToInteractive('df-82cfff5f-e1d3-40d5-ba38-1a3e0a4e186e')\"\n",
              "              title=\"Convert this dataframe to an interactive table.\"\n",
              "              style=\"display:none;\">\n",
              "        \n",
              "  <svg xmlns=\"http://www.w3.org/2000/svg\" height=\"24px\"viewBox=\"0 0 24 24\"\n",
              "       width=\"24px\">\n",
              "    <path d=\"M0 0h24v24H0V0z\" fill=\"none\"/>\n",
              "    <path d=\"M18.56 5.44l.94 2.06.94-2.06 2.06-.94-2.06-.94-.94-2.06-.94 2.06-2.06.94zm-11 1L8.5 8.5l.94-2.06 2.06-.94-2.06-.94L8.5 2.5l-.94 2.06-2.06.94zm10 10l.94 2.06.94-2.06 2.06-.94-2.06-.94-.94-2.06-.94 2.06-2.06.94z\"/><path d=\"M17.41 7.96l-1.37-1.37c-.4-.4-.92-.59-1.43-.59-.52 0-1.04.2-1.43.59L10.3 9.45l-7.72 7.72c-.78.78-.78 2.05 0 2.83L4 21.41c.39.39.9.59 1.41.59.51 0 1.02-.2 1.41-.59l7.78-7.78 2.81-2.81c.8-.78.8-2.07 0-2.86zM5.41 20L4 18.59l7.72-7.72 1.47 1.35L5.41 20z\"/>\n",
              "  </svg>\n",
              "      </button>\n",
              "      \n",
              "  <style>\n",
              "    .colab-df-container {\n",
              "      display:flex;\n",
              "      flex-wrap:wrap;\n",
              "      gap: 12px;\n",
              "    }\n",
              "\n",
              "    .colab-df-convert {\n",
              "      background-color: #E8F0FE;\n",
              "      border: none;\n",
              "      border-radius: 50%;\n",
              "      cursor: pointer;\n",
              "      display: none;\n",
              "      fill: #1967D2;\n",
              "      height: 32px;\n",
              "      padding: 0 0 0 0;\n",
              "      width: 32px;\n",
              "    }\n",
              "\n",
              "    .colab-df-convert:hover {\n",
              "      background-color: #E2EBFA;\n",
              "      box-shadow: 0px 1px 2px rgba(60, 64, 67, 0.3), 0px 1px 3px 1px rgba(60, 64, 67, 0.15);\n",
              "      fill: #174EA6;\n",
              "    }\n",
              "\n",
              "    [theme=dark] .colab-df-convert {\n",
              "      background-color: #3B4455;\n",
              "      fill: #D2E3FC;\n",
              "    }\n",
              "\n",
              "    [theme=dark] .colab-df-convert:hover {\n",
              "      background-color: #434B5C;\n",
              "      box-shadow: 0px 1px 3px 1px rgba(0, 0, 0, 0.15);\n",
              "      filter: drop-shadow(0px 1px 2px rgba(0, 0, 0, 0.3));\n",
              "      fill: #FFFFFF;\n",
              "    }\n",
              "  </style>\n",
              "\n",
              "      <script>\n",
              "        const buttonEl =\n",
              "          document.querySelector('#df-82cfff5f-e1d3-40d5-ba38-1a3e0a4e186e button.colab-df-convert');\n",
              "        buttonEl.style.display =\n",
              "          google.colab.kernel.accessAllowed ? 'block' : 'none';\n",
              "\n",
              "        async function convertToInteractive(key) {\n",
              "          const element = document.querySelector('#df-82cfff5f-e1d3-40d5-ba38-1a3e0a4e186e');\n",
              "          const dataTable =\n",
              "            await google.colab.kernel.invokeFunction('convertToInteractive',\n",
              "                                                     [key], {});\n",
              "          if (!dataTable) return;\n",
              "\n",
              "          const docLinkHtml = 'Like what you see? Visit the ' +\n",
              "            '<a target=\"_blank\" href=https://colab.research.google.com/notebooks/data_table.ipynb>data table notebook</a>'\n",
              "            + ' to learn more about interactive tables.';\n",
              "          element.innerHTML = '';\n",
              "          dataTable['output_type'] = 'display_data';\n",
              "          await google.colab.output.renderOutput(dataTable, element);\n",
              "          const docLink = document.createElement('div');\n",
              "          docLink.innerHTML = docLinkHtml;\n",
              "          element.appendChild(docLink);\n",
              "        }\n",
              "      </script>\n",
              "    </div>\n",
              "  </div>\n",
              "  "
            ]
          },
          "metadata": {},
          "execution_count": 70
        }
      ]
    },
    {
      "cell_type": "code",
      "source": [
        "def plot_distribution_with_info(df:pd.DataFrame,col_name = None, show_info = True, filter = None):\n",
        "  if col_name is None:\n",
        "    return\n",
        "    \n",
        "  df = df[(df[col_name]<=100) & (df[col_name]>=0)][col_name]\n",
        "\n",
        "  if filter is not None:\n",
        "    df = filter\n",
        "\n",
        "  sns.displot(df, kind = 'kde')\n",
        "  if show_info:\n",
        "    plt.axvline(x=df.mean(),\n",
        "                color='red')\n",
        "    plt.axvline(x=df.median(),\n",
        "                color='blue',\n",
        "                ls='--', \n",
        "                lw=2.5)"
      ],
      "metadata": {
        "id": "q9DYZ_BL4Ibl"
      },
      "execution_count": null,
      "outputs": []
    },
    {
      "cell_type": "code",
      "source": [
        "def plot_all(df):\n",
        "    fig = plot_distribution_with_info(df)\n",
        "    [x.title.set_size(14) for x in fig.ravel()]\n",
        "    plt.tight_layout()\n",
        "    plt.show()"
      ],
      "metadata": {
        "id": "bmCvPvMGD-eA"
      },
      "execution_count": null,
      "outputs": []
    },
    {
      "cell_type": "code",
      "source": [
        "plot_distribution_with_info(df,\"total_amount\")"
      ],
      "metadata": {
        "colab": {
          "base_uri": "https://localhost:8080/",
          "height": 506
        },
        "id": "JrjewGyt4jcm",
        "outputId": "e9753734-f830-4006-b439-425cabe07c03"
      },
      "execution_count": null,
      "outputs": [
        {
          "output_type": "display_data",
          "data": {
            "text/plain": [
              "<Figure size 500x500 with 1 Axes>"
            ],
            "image/png": "[encoded data removed]"
          },
          "metadata": {}
        }
      ]
    },
    {
      "cell_type": "code",
      "source": [
        "plot_distribution_with_info(df,\"payment_type\")"
      ],
      "metadata": {
        "colab": {
          "base_uri": "https://localhost:8080/",
          "height": 506
        },
        "id": "SOQ9Fkg75vAQ",
        "outputId": "bbd90d60-8a0e-4b12-b75f-b6a2faa066a7"
      },
      "execution_count": null,
      "outputs": [
        {
          "output_type": "display_data",
          "data": {
            "text/plain": [
              "<Figure size 500x500 with 1 Axes>"
            ],
            "image/png": "[encoded data removed]"
          },
          "metadata": {}
        }
      ]
    },
    {
      "cell_type": "code",
      "source": [
        "trip_filter = df[(df[\"trip_distance\"]<=50)][\"trip_distance\"]"
      ],
      "metadata": {
        "id": "jGX-z3a_9vNX"
      },
      "execution_count": null,
      "outputs": []
    },
    {
      "cell_type": "code",
      "source": [
        "plot_distribution_with_info(df,\"trip_distance\", filter = trip_filter )"
      ],
      "metadata": {
        "colab": {
          "base_uri": "https://localhost:8080/",
          "height": 506
        },
        "id": "bgi-ZiZB6E-B",
        "outputId": "f685ccc3-dccc-44f9-c160-6af0c2ebef3b"
      },
      "execution_count": null,
      "outputs": [
        {
          "output_type": "display_data",
          "data": {
            "text/plain": [
              "<Figure size 500x500 with 1 Axes>"
            ],
            "image/png": "[encoded data removed]"
          },
          "metadata": {}
        }
      ]
    },
    {
      "cell_type": "code",
      "source": [
        "plot_distribution_with_info(df,\"fare_amount\")"
      ],
      "metadata": {
        "colab": {
          "base_uri": "https://localhost:8080/",
          "height": 506
        },
        "id": "ASDotAopG1IU",
        "outputId": "1f921de2-8105-4671-b0dd-20c3223c540f"
      },
      "execution_count": null,
      "outputs": [
        {
          "output_type": "display_data",
          "data": {
            "text/plain": [
              "<Figure size 500x500 with 1 Axes>"
            ],
            "image/png": "[encoded data removed]"
          },
          "metadata": {}
        }
      ]
    },
    {
      "cell_type": "code",
      "source": [
        "plot_distribution_with_info(df,\"tip_amount\")"
      ],
      "metadata": {
        "colab": {
          "base_uri": "https://localhost:8080/",
          "height": 506
        },
        "id": "vBkACm8lG-Or",
        "outputId": "e1805239-8a99-4f4a-b8c3-4628b368020f"
      },
      "execution_count": null,
      "outputs": [
        {
          "output_type": "display_data",
          "data": {
            "text/plain": [
              "<Figure size 500x500 with 1 Axes>"
            ],
            "image/png": "[encoded data removed]"
          },
          "metadata": {}
        }
      ]
    },
    {
      "cell_type": "code",
      "source": [
        "plot_distribution_with_info(df,\"tolls_amount\")"
      ],
      "metadata": {
        "colab": {
          "base_uri": "https://localhost:8080/",
          "height": 507
        },
        "id": "s3doBnpVHCGa",
        "outputId": "d4a97d24-ae94-491f-9aa2-d659f0219e2f"
      },
      "execution_count": null,
      "outputs": [
        {
          "output_type": "display_data",
          "data": {
            "text/plain": [
              "<Figure size 500x500 with 1 Axes>"
            ],
            "image/png": "[encoded data removed]"
          },
          "metadata": {}
        }
      ]
    },
    {
      "cell_type": "code",
      "source": [
        "plot_distribution_with_info(df,\"airport_fee\")"
      ],
      "metadata": {
        "colab": {
          "base_uri": "https://localhost:8080/",
          "height": 506
        },
        "id": "yKYRq9IUHR4G",
        "outputId": "80748613-b36f-46d3-e206-9fe514d1c651"
      },
      "execution_count": null,
      "outputs": [
        {
          "output_type": "display_data",
          "data": {
            "text/plain": [
              "<Figure size 500x500 with 1 Axes>"
            ],
            "image/png": "[encoded data removed]"
          },
          "metadata": {}
        }
      ]
    },
    {
      "cell_type": "markdown",
      "source": [
        "### De las variables tpep_pickup_datetime tpep_dropoff_datetime  se puede obtener mas data, al distribuirla por hora, fecha, duracion de la trayectoria"
      ],
      "metadata": {
        "id": "Sd4zQuD9IH_p"
      }
    },
    {
      "cell_type": "code",
      "source": [
        "df['tpep_pickup_datetime'] = pd.to_datetime(df['tpep_pickup_datetime'])\n",
        "df['tpep_dropoff_datetime'] = pd.to_datetime(df['tpep_dropoff_datetime'])\n",
        "df['date'] = df['tpep_pickup_datetime'].dt.normalize()\n",
        "df['time'] = df['tpep_pickup_datetime'].dt.hour\n",
        "df['weekday'] = df['date'].dt.day_name()\n",
        "df['duration'] = df['tpep_dropoff_datetime'] - df['tpep_pickup_datetime']\n",
        "df['duration'] = df['duration'] / np.timedelta64(1, 'm')"
      ],
      "metadata": {
        "id": "UOBgWDJAJOC3"
      },
      "execution_count": null,
      "outputs": []
    },
    {
      "cell_type": "code",
      "source": [
        "plot_distribution_with_info(df,\"duration\")"
      ],
      "metadata": {
        "colab": {
          "base_uri": "https://localhost:8080/",
          "height": 506
        },
        "id": "Xf8kz_ruJh2i",
        "outputId": "4abe6ad6-5b5d-4eef-8411-b3b22407f773"
      },
      "execution_count": null,
      "outputs": [
        {
          "output_type": "display_data",
          "data": {
            "text/plain": [
              "<Figure size 500x500 with 1 Axes>"
            ],
            "image/png": "[encoded data removed]"
          },
          "metadata": {}
        }
      ]
    },
    {
      "cell_type": "code",
      "source": [
        "plot_distribution_with_info(df,\"time\")"
      ],
      "metadata": {
        "colab": {
          "base_uri": "https://localhost:8080/",
          "height": 507
        },
        "id": "fEN5a00kKjtY",
        "outputId": "1deb1256-013e-4ae8-85fe-781ef2c8746f"
      },
      "execution_count": null,
      "outputs": [
        {
          "output_type": "display_data",
          "data": {
            "text/plain": [
              "<Figure size 500x500 with 1 Axes>"
            ],
            "image/png": "[encoded data removed]"
          },
          "metadata": {}
        }
      ]
    },
    {
      "cell_type": "code",
      "execution_count": null,
      "metadata": {
        "id": "QeZFM8AzQ0bM",
        "colab": {
          "base_uri": "https://localhost:8080/"
        },
        "outputId": "0f33c0e5-82c7-4c93-965d-65dbe06e8274"
      },
      "outputs": [
        {
          "output_type": "stream",
          "name": "stdout",
          "text": [
            "<class 'pandas.core.frame.DataFrame'>\n",
            "RangeIndex: 5443362 entries, 0 to 5443361\n",
            "Data columns (total 18 columns):\n",
            " #   Column                 Dtype         \n",
            "---  ------                 -----         \n",
            " 0   VendorID               int64         \n",
            " 1   tpep_pickup_datetime   datetime64[ns]\n",
            " 2   tpep_dropoff_datetime  datetime64[ns]\n",
            " 3   passenger_count        float64       \n",
            " 4   trip_distance          float64       \n",
            " 5   RatecodeID             float64       \n",
            " 6   PULocationID           int64         \n",
            " 7   DOLocationID           int64         \n",
            " 8   payment_type           int64         \n",
            " 9   fare_amount            float64       \n",
            " 10  tip_amount             float64       \n",
            " 11  tolls_amount           float64       \n",
            " 12  total_amount           float64       \n",
            " 13  airport_fee            float64       \n",
            " 14  duration               float64       \n",
            " 15  date                   datetime64[ns]\n",
            " 16  time                   int64         \n",
            " 17  weekday                object        \n",
            "dtypes: datetime64[ns](3), float64(9), int64(5), object(1)\n",
            "memory usage: 747.5+ MB\n"
          ]
        }
      ],
      "source": [
        "df.info()"
      ]
    },
    {
      "cell_type": "markdown",
      "metadata": {
        "id": "-vn8MWIiQ0bN"
      },
      "source": [
        "### Variables de Salida\n",
        "| Nombre campo | Tipo de dato | Tipo | Significado\n",
        "|-----------|-----------|-----------|-----------|\n",
        "|total_amount          | float64    | Numerica| Monto total\n"
      ]
    },
    {
      "cell_type": "markdown",
      "metadata": {
        "id": "1EFpV9qcQ0bN"
      },
      "source": [
        "### ¿Estan balanceadas las clases?\n",
        "R/ Si"
      ]
    },
    {
      "cell_type": "code",
      "execution_count": null,
      "metadata": {
        "id": "r_iHdeUuQ0bN"
      },
      "outputs": [],
      "source": []
    },
    {
      "cell_type": "markdown",
      "source": [
        "## 3. Limpieza y preparación de datos / ingeniería de features "
      ],
      "metadata": {
        "id": "8Movd5_ckS1r"
      }
    },
    {
      "cell_type": "markdown",
      "source": [
        "### Datos faltantes. Indicar cantidad de observaciones y valores faltantes para cada variable. "
      ],
      "metadata": {
        "id": "9_SjLzVFklge"
      }
    },
    {
      "cell_type": "code",
      "source": [
        "df.isna().sum()"
      ],
      "metadata": {
        "colab": {
          "base_uri": "https://localhost:8080/"
        },
        "id": "UwZy6u0ekVdW",
        "outputId": "5a7ab25e-a560-4f08-da37-38f19f9a00e3"
      },
      "execution_count": null,
      "outputs": [
        {
          "output_type": "execute_result",
          "data": {
            "text/plain": [
              "VendorID                      0\n",
              "tpep_pickup_datetime          0\n",
              "tpep_dropoff_datetime         0\n",
              "passenger_count          173241\n",
              "trip_distance                 0\n",
              "RatecodeID               173241\n",
              "PULocationID                  0\n",
              "DOLocationID                  0\n",
              "payment_type                  0\n",
              "fare_amount                   0\n",
              "tip_amount                    0\n",
              "tolls_amount                  0\n",
              "total_amount                  0\n",
              "airport_fee              173241\n",
              "dtype: int64"
            ]
          },
          "metadata": {},
          "execution_count": 34
        }
      ]
    },
    {
      "cell_type": "markdown",
      "source": [
        "¿Qué supuestos puede realizar acerca de los datos faltantes? ¿Qué técnicas de imputación \n",
        "recomendaría? Ensayar distintas técnicas y analizar los resultados. "
      ],
      "metadata": {
        "id": "Eb8cf1URkp-Q"
      }
    },
    {
      "cell_type": "code",
      "source": [],
      "metadata": {
        "id": "J2BNP3V5kXOh"
      },
      "execution_count": null,
      "outputs": []
    },
    {
      "cell_type": "markdown",
      "source": [
        "### En función del estudio inicial de las variables que se hizo en la sección anterior, elegir una técnica de codificación para cada variable. Cuando lo considere apropiado, ensayar distintas técnicas y comparar los resultados, teniendo en cuenta el tipo de clasificador a utilizar. Nota: para tipos de  datos compuestos o estructurados, considerar la obtención de variables de tipo numérico/categórico."
      ],
      "metadata": {
        "id": "zmWKCFAtkx37"
      }
    },
    {
      "cell_type": "code",
      "source": [],
      "metadata": {
        "id": "CjE1uMCrkyw8"
      },
      "execution_count": null,
      "outputs": []
    },
    {
      "cell_type": "markdown",
      "source": [
        "¿Qué puede decir acerca de las relaciones entre las variables de entrada?\n",
        "|"
      ],
      "metadata": {
        "id": "Zny8OjuZk4rN"
      }
    },
    {
      "cell_type": "code",
      "source": [],
      "metadata": {
        "id": "-d7lA1Qak5JP"
      },
      "execution_count": null,
      "outputs": []
    },
    {
      "cell_type": "markdown",
      "source": [
        "Antes de entrenar un modelo de aprendizaje automático, ¿Podría identificar las variables de \n",
        "entrada de mayor importancia? Considerar por lo menos dos técnicas para cada variable. Explique \n",
        "brevemente los métodos utilizados"
      ],
      "metadata": {
        "id": "lB-HqkoVk60n"
      }
    },
    {
      "cell_type": "code",
      "source": [],
      "metadata": {
        "id": "9Af-U3zdk7Ff"
      },
      "execution_count": null,
      "outputs": []
    }
  ],
  "metadata": {
    "kernelspec": {
      "display_name": "Python 3",
      "language": "python",
      "name": "python3"
    },
    "language_info": {
      "codemirror_mode": {
        "name": "ipython",
        "version": 3
      },
      "file_extension": ".py",
      "mimetype": "text/x-python",
      "name": "python",
      "nbconvert_exporter": "python",
      "pygments_lexer": "ipython3",
      "version": "3.10.0"
    },
    "orig_nbformat": 4,
    "colab": {
      "provenance": [],
      "collapsed_sections": [
        "LMddj7dwQ0bK",
        "MfGd7OrJQ0bK",
        "PEwNv38jQ0bL",
        "-vn8MWIiQ0bN"
      ],
      "include_colab_link": true
    },
    "accelerator": "GPU",
    "gpuClass": "standard"
  },
  "nbformat": 4,
  "nbformat_minor": 0
}